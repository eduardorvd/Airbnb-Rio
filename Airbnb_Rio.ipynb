{
  "nbformat": 4,
  "nbformat_minor": 0,
  "metadata": {
    "colab": {
      "name": "Airbnb Rio.ipynb",
      "provenance": [],
      "collapsed_sections": []
    },
    "kernelspec": {
      "name": "python3",
      "display_name": "Python 3"
    }
  },
  "cells": [
    {
      "cell_type": "markdown",
      "metadata": {
        "id": "eWGmZXHFhtOU"
      },
      "source": [
        "**Understanding the host/customer behavior of the Airbnb users in Rio de Janeiro**\r\n",
        "\r\n",
        "\r\n",
        "The chosen Dataset was the Rio de Janeiro AirBNB Data, which contains information about the available apartments to rent in the city of Rio de Janeiro using the AirBNB platform. Let's first import the necessary libraries and load the available data.\r\n"
      ]
    },
    {
      "cell_type": "code",
      "metadata": {
        "id": "14jgTEYPiQ3A"
      },
      "source": [
        "import numpy as np\r\n",
        "import pandas as pd\r\n",
        "import matplotlib.pyplot as plt\r\n",
        "from sklearn.linear_model import LinearRegression\r\n",
        "from sklearn.model_selection import train_test_split\r\n",
        "from sklearn.metrics import r2_score, mean_squared_error\r\n",
        "import seaborn as sns\r\n",
        "from scipy import stats\r\n",
        "%matplotlib inline\r\n"
      ],
      "execution_count": 1,
      "outputs": []
    },
    {
      "cell_type": "code",
      "metadata": {
        "colab": {
          "base_uri": "https://localhost:8080/",
          "height": 581
        },
        "id": "0ZFIOHtBiEl1",
        "outputId": "e40ce136-cc65-43e6-8c53-24346a354990"
      },
      "source": [
        "df = pd.read_csv('/content/listings.csv', error_bad_lines=False, sep=';')\r\n",
        "df.head()"
      ],
      "execution_count": 2,
      "outputs": [
        {
          "output_type": "stream",
          "text": [
            "/usr/local/lib/python3.6/dist-packages/IPython/core/interactiveshell.py:2718: DtypeWarning: Columns (29,30) have mixed types.Specify dtype option on import or set low_memory=False.\n",
            "  interactivity=interactivity, compiler=compiler, result=result)\n"
          ],
          "name": "stderr"
        },
        {
          "output_type": "execute_result",
          "data": {
            "text/html": [
              "<div>\n",
              "<style scoped>\n",
              "    .dataframe tbody tr th:only-of-type {\n",
              "        vertical-align: middle;\n",
              "    }\n",
              "\n",
              "    .dataframe tbody tr th {\n",
              "        vertical-align: top;\n",
              "    }\n",
              "\n",
              "    .dataframe thead th {\n",
              "        text-align: right;\n",
              "    }\n",
              "</style>\n",
              "<table border=\"1\" class=\"dataframe\">\n",
              "  <thead>\n",
              "    <tr style=\"text-align: right;\">\n",
              "      <th></th>\n",
              "      <th>id</th>\n",
              "      <th>listing_url</th>\n",
              "      <th>scrape_id</th>\n",
              "      <th>last_scraped</th>\n",
              "      <th>name</th>\n",
              "      <th>description</th>\n",
              "      <th>neighborhood_overview</th>\n",
              "      <th>picture_url</th>\n",
              "      <th>host_id</th>\n",
              "      <th>host_url</th>\n",
              "      <th>host_name</th>\n",
              "      <th>host_since</th>\n",
              "      <th>host_location</th>\n",
              "      <th>host_about</th>\n",
              "      <th>host_response_time</th>\n",
              "      <th>host_response_rate</th>\n",
              "      <th>host_acceptance_rate</th>\n",
              "      <th>host_is_superhost</th>\n",
              "      <th>host_thumbnail_url</th>\n",
              "      <th>host_picture_url</th>\n",
              "      <th>host_neighbourhood</th>\n",
              "      <th>host_listings_count</th>\n",
              "      <th>host_total_listings_count</th>\n",
              "      <th>host_verifications</th>\n",
              "      <th>host_has_profile_pic</th>\n",
              "      <th>host_identity_verified</th>\n",
              "      <th>neighbourhood</th>\n",
              "      <th>neighbourhood_cleansed</th>\n",
              "      <th>neighbourhood_group_cleansed</th>\n",
              "      <th>latitude</th>\n",
              "      <th>longitude</th>\n",
              "      <th>property_type</th>\n",
              "      <th>room_type</th>\n",
              "      <th>accommodates</th>\n",
              "      <th>bathrooms</th>\n",
              "      <th>bathrooms_text</th>\n",
              "      <th>bedrooms</th>\n",
              "      <th>beds</th>\n",
              "      <th>amenities</th>\n",
              "      <th>price</th>\n",
              "      <th>minimum_nights</th>\n",
              "      <th>maximum_nights</th>\n",
              "      <th>minimum_minimum_nights</th>\n",
              "      <th>maximum_minimum_nights</th>\n",
              "      <th>minimum_maximum_nights</th>\n",
              "      <th>maximum_maximum_nights</th>\n",
              "      <th>minimum_nights_avg_ntm</th>\n",
              "      <th>maximum_nights_avg_ntm</th>\n",
              "      <th>calendar_updated</th>\n",
              "      <th>has_availability</th>\n",
              "      <th>availability_30</th>\n",
              "      <th>availability_60</th>\n",
              "      <th>availability_90</th>\n",
              "      <th>availability_365</th>\n",
              "      <th>calendar_last_scraped</th>\n",
              "      <th>number_of_reviews</th>\n",
              "      <th>number_of_reviews_ltm</th>\n",
              "      <th>number_of_reviews_l30d</th>\n",
              "      <th>first_review</th>\n",
              "      <th>last_review</th>\n",
              "      <th>review_scores_rating</th>\n",
              "      <th>review_scores_accuracy</th>\n",
              "      <th>review_scores_cleanliness</th>\n",
              "      <th>review_scores_checkin</th>\n",
              "      <th>review_scores_communication</th>\n",
              "      <th>review_scores_location</th>\n",
              "      <th>review_scores_value</th>\n",
              "      <th>license</th>\n",
              "      <th>instant_bookable</th>\n",
              "      <th>calculated_host_listings_count</th>\n",
              "      <th>calculated_host_listings_count_entire_homes</th>\n",
              "      <th>calculated_host_listings_count_private_rooms</th>\n",
              "      <th>calculated_host_listings_count_shared_rooms</th>\n",
              "      <th>reviews_per_month</th>\n",
              "    </tr>\n",
              "  </thead>\n",
              "  <tbody>\n",
              "    <tr>\n",
              "      <th>0</th>\n",
              "      <td>17878</td>\n",
              "      <td>https://www.airbnb.com/rooms/17878</td>\n",
              "      <td>2,02012E+13</td>\n",
              "      <td>30/12/2020</td>\n",
              "      <td>Very Nice 2Br in Copacabana w. balcony, fast WiFi</td>\n",
              "      <td>Discounts for long term stays. &lt;br /&gt;- Large b...</td>\n",
              "      <td>This is the one of the bests spots in Rio. Bec...</td>\n",
              "      <td>https://a0.muscache.com/pictures/65320518/3069...</td>\n",
              "      <td>68997</td>\n",
              "      <td>https://www.airbnb.com/users/show/68997</td>\n",
              "      <td>Matthias</td>\n",
              "      <td>08/01/2010</td>\n",
              "      <td>Rio de Janeiro, State of Rio de Janeiro, Brazil</td>\n",
              "      <td>I  am a  journalist/writer. Lived for 15 years...</td>\n",
              "      <td>within an hour</td>\n",
              "      <td>100%</td>\n",
              "      <td>100%</td>\n",
              "      <td>t</td>\n",
              "      <td>https://a0.muscache.com/im/pictures/user/67b13...</td>\n",
              "      <td>https://a0.muscache.com/im/pictures/user/67b13...</td>\n",
              "      <td>Copacabana</td>\n",
              "      <td>2.0</td>\n",
              "      <td>2.0</td>\n",
              "      <td>['email', 'phone', 'reviews', 'jumio', 'offlin...</td>\n",
              "      <td>t</td>\n",
              "      <td>t</td>\n",
              "      <td>Rio de Janeiro, Brazil</td>\n",
              "      <td>Copacabana</td>\n",
              "      <td>NaN</td>\n",
              "      <td>-2296592</td>\n",
              "      <td>-4317896</td>\n",
              "      <td>Entire condominium</td>\n",
              "      <td>Entire home/apt</td>\n",
              "      <td>5</td>\n",
              "      <td>NaN</td>\n",
              "      <td>1 bath</td>\n",
              "      <td>2.0</td>\n",
              "      <td>2.0</td>\n",
              "      <td>[\"Hot water\", \"Essentials\", \"Stove\", \"Microwav...</td>\n",
              "      <td>$500.00</td>\n",
              "      <td>5</td>\n",
              "      <td>180</td>\n",
              "      <td>5</td>\n",
              "      <td>5</td>\n",
              "      <td>1125</td>\n",
              "      <td>1125</td>\n",
              "      <td>50</td>\n",
              "      <td>11250</td>\n",
              "      <td>NaN</td>\n",
              "      <td>t</td>\n",
              "      <td>0</td>\n",
              "      <td>0</td>\n",
              "      <td>0</td>\n",
              "      <td>0</td>\n",
              "      <td>30/12/2020</td>\n",
              "      <td>259</td>\n",
              "      <td>13</td>\n",
              "      <td>2</td>\n",
              "      <td>15/07/2010</td>\n",
              "      <td>26/12/2020</td>\n",
              "      <td>93.0</td>\n",
              "      <td>9.0</td>\n",
              "      <td>9.0</td>\n",
              "      <td>10.0</td>\n",
              "      <td>10.0</td>\n",
              "      <td>10.0</td>\n",
              "      <td>9.0</td>\n",
              "      <td>NaN</td>\n",
              "      <td>t</td>\n",
              "      <td>1</td>\n",
              "      <td>1</td>\n",
              "      <td>0</td>\n",
              "      <td>0</td>\n",
              "      <td>203.0</td>\n",
              "    </tr>\n",
              "    <tr>\n",
              "      <th>1</th>\n",
              "      <td>25026</td>\n",
              "      <td>https://www.airbnb.com/rooms/25026</td>\n",
              "      <td>2,02012E+13</td>\n",
              "      <td>24/12/2020</td>\n",
              "      <td>Beautiful Modern Decorated Studio in Copa</td>\n",
              "      <td>Our apartment is a little gem, everyone loves ...</td>\n",
              "      <td>Copacabana is a lively neighborhood and the ap...</td>\n",
              "      <td>https://a0.muscache.com/pictures/3003965/68ebb...</td>\n",
              "      <td>3746246</td>\n",
              "      <td>https://www.airbnb.com/users/show/3746246</td>\n",
              "      <td>Ghizlane</td>\n",
              "      <td>03/10/2012</td>\n",
              "      <td>Rio de Janeiro, Rio de Janeiro, Brazil</td>\n",
              "      <td>French girl \"lost in Brazilian translation\" si...</td>\n",
              "      <td>within a day</td>\n",
              "      <td>89%</td>\n",
              "      <td>71%</td>\n",
              "      <td>f</td>\n",
              "      <td>https://a0.muscache.com/im/pictures/user/fffed...</td>\n",
              "      <td>https://a0.muscache.com/im/pictures/user/fffed...</td>\n",
              "      <td>Ipanema</td>\n",
              "      <td>11.0</td>\n",
              "      <td>11.0</td>\n",
              "      <td>['phone', 'reviews', 'jumio', 'offline_governm...</td>\n",
              "      <td>t</td>\n",
              "      <td>f</td>\n",
              "      <td>Rio de Janeiro, Brazil</td>\n",
              "      <td>Copacabana</td>\n",
              "      <td>NaN</td>\n",
              "      <td>-2297712</td>\n",
              "      <td>-4319045</td>\n",
              "      <td>Entire apartment</td>\n",
              "      <td>Entire home/apt</td>\n",
              "      <td>2</td>\n",
              "      <td>NaN</td>\n",
              "      <td>1 bath</td>\n",
              "      <td>1.0</td>\n",
              "      <td>2.0</td>\n",
              "      <td>[\"TV\", \"Cable TV\", \"Elevator\", \"Essentials\", \"...</td>\n",
              "      <td>$160.00</td>\n",
              "      <td>7</td>\n",
              "      <td>60</td>\n",
              "      <td>7</td>\n",
              "      <td>7</td>\n",
              "      <td>60</td>\n",
              "      <td>60</td>\n",
              "      <td>70</td>\n",
              "      <td>600</td>\n",
              "      <td>NaN</td>\n",
              "      <td>t</td>\n",
              "      <td>7</td>\n",
              "      <td>30</td>\n",
              "      <td>60</td>\n",
              "      <td>335</td>\n",
              "      <td>24/12/2020</td>\n",
              "      <td>238</td>\n",
              "      <td>2</td>\n",
              "      <td>0</td>\n",
              "      <td>07/06/2010</td>\n",
              "      <td>15/02/2020</td>\n",
              "      <td>94.0</td>\n",
              "      <td>9.0</td>\n",
              "      <td>9.0</td>\n",
              "      <td>9.0</td>\n",
              "      <td>10.0</td>\n",
              "      <td>10.0</td>\n",
              "      <td>9.0</td>\n",
              "      <td>NaN</td>\n",
              "      <td>f</td>\n",
              "      <td>11</td>\n",
              "      <td>11</td>\n",
              "      <td>0</td>\n",
              "      <td>0</td>\n",
              "      <td>185.0</td>\n",
              "    </tr>\n",
              "    <tr>\n",
              "      <th>2</th>\n",
              "      <td>35636</td>\n",
              "      <td>https://www.airbnb.com/rooms/35636</td>\n",
              "      <td>2,02012E+13</td>\n",
              "      <td>24/12/2020</td>\n",
              "      <td>Cosy flat close to Ipanema beach</td>\n",
              "      <td>This cosy apartment  is just a few steps away ...</td>\n",
              "      <td>The  apartment street is very quiet and safe ....</td>\n",
              "      <td>https://a0.muscache.com/pictures/20009355/38b6...</td>\n",
              "      <td>153232</td>\n",
              "      <td>https://www.airbnb.com/users/show/153232</td>\n",
              "      <td>Patricia</td>\n",
              "      <td>27/06/2010</td>\n",
              "      <td>San Carlos de Bariloche, Rio Negro, Argentina</td>\n",
              "      <td>I am Brazilian and Carioca graphic designer, b...</td>\n",
              "      <td>within an hour</td>\n",
              "      <td>100%</td>\n",
              "      <td>100%</td>\n",
              "      <td>f</td>\n",
              "      <td>https://a0.muscache.com/im/users/153232/profil...</td>\n",
              "      <td>https://a0.muscache.com/im/users/153232/profil...</td>\n",
              "      <td>Ipanema</td>\n",
              "      <td>1.0</td>\n",
              "      <td>1.0</td>\n",
              "      <td>['email', 'phone', 'facebook', 'reviews', 'man...</td>\n",
              "      <td>t</td>\n",
              "      <td>t</td>\n",
              "      <td>Rio de Janeiro, Brazil</td>\n",
              "      <td>Ipanema</td>\n",
              "      <td>NaN</td>\n",
              "      <td>-2298816</td>\n",
              "      <td>-4319359</td>\n",
              "      <td>Entire apartment</td>\n",
              "      <td>Entire home/apt</td>\n",
              "      <td>2</td>\n",
              "      <td>NaN</td>\n",
              "      <td>1.5 baths</td>\n",
              "      <td>1.0</td>\n",
              "      <td>1.0</td>\n",
              "      <td>[\"Elevator\", \"Microwave\", \"Essentials\", \"Kitch...</td>\n",
              "      <td>$259.00</td>\n",
              "      <td>2</td>\n",
              "      <td>89</td>\n",
              "      <td>2</td>\n",
              "      <td>2</td>\n",
              "      <td>89</td>\n",
              "      <td>89</td>\n",
              "      <td>20</td>\n",
              "      <td>890</td>\n",
              "      <td>NaN</td>\n",
              "      <td>t</td>\n",
              "      <td>0</td>\n",
              "      <td>0</td>\n",
              "      <td>0</td>\n",
              "      <td>267</td>\n",
              "      <td>24/12/2020</td>\n",
              "      <td>181</td>\n",
              "      <td>8</td>\n",
              "      <td>0</td>\n",
              "      <td>22/10/2013</td>\n",
              "      <td>15/03/2020</td>\n",
              "      <td>94.0</td>\n",
              "      <td>10.0</td>\n",
              "      <td>9.0</td>\n",
              "      <td>10.0</td>\n",
              "      <td>10.0</td>\n",
              "      <td>10.0</td>\n",
              "      <td>9.0</td>\n",
              "      <td>NaN</td>\n",
              "      <td>f</td>\n",
              "      <td>1</td>\n",
              "      <td>1</td>\n",
              "      <td>0</td>\n",
              "      <td>0</td>\n",
              "      <td>207.0</td>\n",
              "    </tr>\n",
              "    <tr>\n",
              "      <th>3</th>\n",
              "      <td>35764</td>\n",
              "      <td>https://www.airbnb.com/rooms/35764</td>\n",
              "      <td>2,02012E+13</td>\n",
              "      <td>24/12/2020</td>\n",
              "      <td>COPACABANA SEA BREEZE  -  RIO - 20 X Superhost</td>\n",
              "      <td>Our newly renovated studio is located in the b...</td>\n",
              "      <td>Our guests will experience living with a local...</td>\n",
              "      <td>https://a0.muscache.com/pictures/23782972/1d3e...</td>\n",
              "      <td>153691</td>\n",
              "      <td>https://www.airbnb.com/users/show/153691</td>\n",
              "      <td>Patricia Miranda &amp; Paulo</td>\n",
              "      <td>27/06/2010</td>\n",
              "      <td>Rio de Janeiro, Rio de Janeiro, Brazil</td>\n",
              "      <td>Hello,   We are Patricia Miranda and Paulo.\\r\\...</td>\n",
              "      <td>within an hour</td>\n",
              "      <td>100%</td>\n",
              "      <td>95%</td>\n",
              "      <td>t</td>\n",
              "      <td>https://a0.muscache.com/im/users/153691/profil...</td>\n",
              "      <td>https://a0.muscache.com/im/users/153691/profil...</td>\n",
              "      <td>Copacabana</td>\n",
              "      <td>1.0</td>\n",
              "      <td>1.0</td>\n",
              "      <td>['email', 'phone', 'reviews', 'jumio', 'govern...</td>\n",
              "      <td>t</td>\n",
              "      <td>t</td>\n",
              "      <td>Rio de Janeiro, Brazil</td>\n",
              "      <td>Copacabana</td>\n",
              "      <td>NaN</td>\n",
              "      <td>-2298127</td>\n",
              "      <td>-4319046</td>\n",
              "      <td>Entire loft</td>\n",
              "      <td>Entire home/apt</td>\n",
              "      <td>2</td>\n",
              "      <td>NaN</td>\n",
              "      <td>1 bath</td>\n",
              "      <td>1.0</td>\n",
              "      <td>1.0</td>\n",
              "      <td>[\"Elevator\", \"Microwave\", \"Essentials\", \"Stove...</td>\n",
              "      <td>$157.00</td>\n",
              "      <td>3</td>\n",
              "      <td>15</td>\n",
              "      <td>3</td>\n",
              "      <td>7</td>\n",
              "      <td>8</td>\n",
              "      <td>15</td>\n",
              "      <td>32</td>\n",
              "      <td>146</td>\n",
              "      <td>NaN</td>\n",
              "      <td>t</td>\n",
              "      <td>1</td>\n",
              "      <td>20</td>\n",
              "      <td>22</td>\n",
              "      <td>89</td>\n",
              "      <td>24/12/2020</td>\n",
              "      <td>346</td>\n",
              "      <td>25</td>\n",
              "      <td>4</td>\n",
              "      <td>03/10/2010</td>\n",
              "      <td>20/12/2020</td>\n",
              "      <td>98.0</td>\n",
              "      <td>10.0</td>\n",
              "      <td>10.0</td>\n",
              "      <td>10.0</td>\n",
              "      <td>10.0</td>\n",
              "      <td>10.0</td>\n",
              "      <td>10.0</td>\n",
              "      <td>NaN</td>\n",
              "      <td>f</td>\n",
              "      <td>1</td>\n",
              "      <td>1</td>\n",
              "      <td>0</td>\n",
              "      <td>0</td>\n",
              "      <td>278.0</td>\n",
              "    </tr>\n",
              "    <tr>\n",
              "      <th>4</th>\n",
              "      <td>41198</td>\n",
              "      <td>https://www.airbnb.com/rooms/41198</td>\n",
              "      <td>2,02012E+13</td>\n",
              "      <td>24/12/2020</td>\n",
              "      <td>Modern 2bed,Top end of Copacabana</td>\n",
              "      <td>&lt;b&gt;The space&lt;/b&gt;&lt;br /&gt;Stay in this, Modern,cle...</td>\n",
              "      <td>NaN</td>\n",
              "      <td>https://a0.muscache.com/pictures/3576716/2d6a9...</td>\n",
              "      <td>178975</td>\n",
              "      <td>https://www.airbnb.com/users/show/178975</td>\n",
              "      <td>Nicky</td>\n",
              "      <td>23/07/2010</td>\n",
              "      <td>Rio de Janeiro, Rio de Janeiro, Brazil</td>\n",
              "      <td>Hi fellow Airbnb-ers,\\r\\nMr Francis , Nixx, Ni...</td>\n",
              "      <td>within a day</td>\n",
              "      <td>80%</td>\n",
              "      <td>25%</td>\n",
              "      <td>f</td>\n",
              "      <td>https://a0.muscache.com/im/users/178975/profil...</td>\n",
              "      <td>https://a0.muscache.com/im/users/178975/profil...</td>\n",
              "      <td>Copacabana</td>\n",
              "      <td>4.0</td>\n",
              "      <td>4.0</td>\n",
              "      <td>['email', 'phone', 'reviews', 'jumio', 'offlin...</td>\n",
              "      <td>t</td>\n",
              "      <td>t</td>\n",
              "      <td>NaN</td>\n",
              "      <td>Copacabana</td>\n",
              "      <td>NaN</td>\n",
              "      <td>-2297962</td>\n",
              "      <td>-431923</td>\n",
              "      <td>Entire apartment</td>\n",
              "      <td>Entire home/apt</td>\n",
              "      <td>5</td>\n",
              "      <td>NaN</td>\n",
              "      <td>1 bath</td>\n",
              "      <td>2.0</td>\n",
              "      <td>0.0</td>\n",
              "      <td>[\"Cable TV\", \"Elevator\", \"Air conditioning\", \"...</td>\n",
              "      <td>$1,035.00</td>\n",
              "      <td>3</td>\n",
              "      <td>365</td>\n",
              "      <td>3</td>\n",
              "      <td>7</td>\n",
              "      <td>365</td>\n",
              "      <td>365</td>\n",
              "      <td>32</td>\n",
              "      <td>3650</td>\n",
              "      <td>NaN</td>\n",
              "      <td>t</td>\n",
              "      <td>30</td>\n",
              "      <td>60</td>\n",
              "      <td>90</td>\n",
              "      <td>365</td>\n",
              "      <td>24/12/2020</td>\n",
              "      <td>18</td>\n",
              "      <td>0</td>\n",
              "      <td>0</td>\n",
              "      <td>11/02/2013</td>\n",
              "      <td>09/02/2016</td>\n",
              "      <td>84.0</td>\n",
              "      <td>8.0</td>\n",
              "      <td>9.0</td>\n",
              "      <td>9.0</td>\n",
              "      <td>9.0</td>\n",
              "      <td>9.0</td>\n",
              "      <td>9.0</td>\n",
              "      <td>NaN</td>\n",
              "      <td>f</td>\n",
              "      <td>2</td>\n",
              "      <td>2</td>\n",
              "      <td>0</td>\n",
              "      <td>0</td>\n",
              "      <td>19.0</td>\n",
              "    </tr>\n",
              "  </tbody>\n",
              "</table>\n",
              "</div>"
            ],
            "text/plain": [
              "      id  ... reviews_per_month\n",
              "0  17878  ...             203.0\n",
              "1  25026  ...             185.0\n",
              "2  35636  ...             207.0\n",
              "3  35764  ...             278.0\n",
              "4  41198  ...              19.0\n",
              "\n",
              "[5 rows x 74 columns]"
            ]
          },
          "metadata": {
            "tags": []
          },
          "execution_count": 2
        }
      ]
    },
    {
      "cell_type": "markdown",
      "metadata": {
        "id": "q_NT5Pv-ov5z"
      },
      "source": [
        "**Question 1**\r\n",
        "\r\n",
        "Which neighbourhoods have the best average rating and how the average price influences on that?\r\n",
        "For this analysis, we wil get just neighbourhoods with more than 30 records in the database to have statistical significance."
      ]
    },
    {
      "cell_type": "code",
      "metadata": {
        "colab": {
          "base_uri": "https://localhost:8080/"
        },
        "id": "CWgtaCUlpesH",
        "outputId": "449d0367-b72c-403f-bf40-0df39bffd4c8"
      },
      "source": [
        "df2=df.groupby('neighbourhood_cleansed').filter(lambda x: x['neighbourhood_cleansed'].count()>=30)\r\n",
        "df2['review_scores_rating'].groupby(df2['neighbourhood_cleansed']).mean().sort_values(ascending=False)"
      ],
      "execution_count": 3,
      "outputs": [
        {
          "output_type": "execute_result",
          "data": {
            "text/plain": [
              "neighbourhood_cleansed\n",
              "Engenho Novo                98.923077\n",
              "Alto da Boa Vista           98.904762\n",
              "Cosme Velho                 97.358974\n",
              "São Cristóvão               97.282051\n",
              "Jardim Guanabara            96.794118\n",
              "Joá                         96.540541\n",
              "Gávea                       96.534483\n",
              "Todos os Santos             96.214286\n",
              "Rio Comprido                96.000000\n",
              "Jardim Botânico             95.938596\n",
              "Praça da Bandeira           95.772727\n",
              "Curicica                    95.571429\n",
              "Campo Grande                95.531250\n",
              "Laranjeiras                 95.514056\n",
              "Humaitá                     95.445652\n",
              "Botafogo                    95.433208\n",
              "Urca                        95.313433\n",
              "Jacarepaguá                 95.286982\n",
              "Lagoa                       95.248062\n",
              "Centro                      95.217105\n",
              "Vila Isabel                 95.200000\n",
              "Leblon                      95.179221\n",
              "Santa Teresa                95.163993\n",
              "Glória                      95.106870\n",
              "Tijuca                      95.102439\n",
              "Barra da Tijuca             95.011417\n",
              "Flamengo                    94.994580\n",
              "Recreio dos Bandeirantes    94.961818\n",
              "Leme                        94.834921\n",
              "Taquara                     94.783784\n",
              "Ipanema                     94.690519\n",
              "Andaraí                     94.470588\n",
              "Maracanã                    94.400000\n",
              "Anil                        94.384615\n",
              "Vargem Pequena              94.357143\n",
              "Guaratiba                   94.314286\n",
              "Copacabana                  94.140700\n",
              "Freguesia (Jacarepaguá)     94.000000\n",
              "Camorim                     93.914286\n",
              "Catete                      93.829932\n",
              "Grajaú                      93.800000\n",
              "São Conrado                 93.595506\n",
              "Vidigal                     93.578947\n",
              "Barra de Guaratiba          93.148148\n",
              "Pechincha                   92.200000\n",
              "Itanhangá                   91.979592\n",
              "Paquetá                     91.300000\n",
              "Estácio                     90.750000\n",
              "Vargem Grande               88.580645\n",
              "Engenho de Dentro           82.833333\n",
              "Name: review_scores_rating, dtype: float64"
            ]
          },
          "metadata": {
            "tags": []
          },
          "execution_count": 3
        }
      ]
    },
    {
      "cell_type": "code",
      "metadata": {
        "colab": {
          "base_uri": "https://localhost:8080/"
        },
        "id": "v_J4UtdproH5",
        "outputId": "2f4e8c33-2f86-4d08-b999-bf21ccf0e0f9"
      },
      "source": [
        "df2['price'] = df2['price'].replace('[\\$,]', '', regex=True).astype(float)\r\n",
        "df2['price'].groupby(df2['neighbourhood_cleansed']).mean().sort_values(ascending=False)"
      ],
      "execution_count": 4,
      "outputs": [
        {
          "output_type": "execute_result",
          "data": {
            "text/plain": [
              "neighbourhood_cleansed\n",
              "São Cristóvão               8131.831169\n",
              "Alto da Boa Vista           5239.025641\n",
              "Joá                         5058.811765\n",
              "São Conrado                 2396.053097\n",
              "Guaratiba                   2288.862069\n",
              "Barra de Guaratiba          1412.352941\n",
              "Itanhangá                   1214.289855\n",
              "Andaraí                     1145.700000\n",
              "Lagoa                       1116.291339\n",
              "Ipanema                     1096.267945\n",
              "Leblon                      1086.402766\n",
              "Barra da Tijuca             1077.018934\n",
              "Copacabana                   959.257814\n",
              "Gávea                        885.284211\n",
              "Recreio dos Bandeirantes     819.191793\n",
              "Vargem Pequena               816.982143\n",
              "Jardim Botânico              804.360577\n",
              "Leme                         783.415822\n",
              "Vargem Grande                761.625000\n",
              "Taquara                      688.467742\n",
              "Maracanã                     664.542169\n",
              "Santa Teresa                 647.279944\n",
              "Jacarepaguá                  642.089191\n",
              "Cosme Velho                  625.950617\n",
              "Humaitá                      625.294479\n",
              "Laranjeiras                  573.962617\n",
              "Urca                         548.936937\n",
              "Freguesia (Jacarepaguá)      529.823529\n",
              "Todos os Santos              527.312500\n",
              "Vidigal                      509.829457\n",
              "Praça da Bandeira            508.296296\n",
              "Glória                       504.136368\n",
              "Pechincha                    495.920000\n",
              "Camorim                      494.661290\n",
              "Campo Grande                 481.404762\n",
              "Tijuca                       472.885655\n",
              "Vila Isabel                  468.681658\n",
              "Engenho de Dentro            456.159091\n",
              "Curicica                     448.403509\n",
              "Flamengo                     446.286701\n",
              "Anil                         433.642857\n",
              "Botafogo                     427.992469\n",
              "Rio Comprido                 358.677419\n",
              "Catete                       357.922747\n",
              "Paquetá                      347.393939\n",
              "Centro                       335.945135\n",
              "Engenho Novo                 327.500000\n",
              "Grajaú                       315.041667\n",
              "Estácio                      228.000000\n",
              "Jardim Guanabara             216.019231\n",
              "Name: price, dtype: float64"
            ]
          },
          "metadata": {
            "tags": []
          },
          "execution_count": 4
        }
      ]
    },
    {
      "cell_type": "code",
      "metadata": {
        "colab": {
          "base_uri": "https://localhost:8080/",
          "height": 415
        },
        "id": "xH1zGtcp3LwR",
        "outputId": "1a7dc520-8fc6-4b2e-b9fc-5330e62e903e"
      },
      "source": [
        "df2['review_scores_rating'].groupby(df2['neighbourhood_cleansed']).mean().sort_values(ascending=False).plot(kind=\"bar\")"
      ],
      "execution_count": 5,
      "outputs": [
        {
          "output_type": "execute_result",
          "data": {
            "text/plain": [
              "<matplotlib.axes._subplots.AxesSubplot at 0x7fdecf621128>"
            ]
          },
          "metadata": {
            "tags": []
          },
          "execution_count": 5
        },
        {
          "output_type": "display_data",
          "data": {
            "image/png": "[encoded data removed]",
            "text/plain": [
              "<Figure size 432x288 with 1 Axes>"
            ]
          },
          "metadata": {
            "tags": [],
            "needs_background": "light"
          }
        }
      ]
    },
    {
      "cell_type": "code",
      "metadata": {
        "colab": {
          "base_uri": "https://localhost:8080/",
          "height": 415
        },
        "id": "kjec3Fis4RpM",
        "outputId": "30770557-d244-4a4d-cd31-19579057fb47"
      },
      "source": [
        "df2['price'] = df2['price'].replace('[\\$,]', '', regex=True).astype(float)\r\n",
        "df2['price'].groupby(df2['neighbourhood_cleansed']).mean().sort_values(ascending=False).plot(kind=\"bar\")"
      ],
      "execution_count": 6,
      "outputs": [
        {
          "output_type": "execute_result",
          "data": {
            "text/plain": [
              "<matplotlib.axes._subplots.AxesSubplot at 0x7fdecf462b70>"
            ]
          },
          "metadata": {
            "tags": []
          },
          "execution_count": 6
        },
        {
          "output_type": "display_data",
          "data": {
            "image/png": "[encoded data removed]",
            "text/plain": [
              "<Figure size 432x288 with 1 Axes>"
            ]
          },
          "metadata": {
            "tags": [],
            "needs_background": "light"
          }
        }
      ]
    },
    {
      "cell_type": "markdown",
      "metadata": {
        "id": "-A3WxJF5SA9H"
      },
      "source": [
        "Considering that São Cristovão is not considered a \"noble neighbourhood\" in Rio, maybe there is some outliers in this dataset. Let's take a deep analysis."
      ]
    },
    {
      "cell_type": "code",
      "metadata": {
        "colab": {
          "base_uri": "https://localhost:8080/",
          "height": 293
        },
        "id": "u34BXV6HO64y",
        "outputId": "8e0a8984-dd5f-4fd1-ac6a-6ff8d5ce70be"
      },
      "source": [
        "plt.scatter(df2['price'], df2['id'])\r\n",
        "#sns.scatterplot(x=df2['price'], y=df2['id'], hue=df2['neighbourhood_cleansed'])"
      ],
      "execution_count": 7,
      "outputs": [
        {
          "output_type": "execute_result",
          "data": {
            "text/plain": [
              "<matplotlib.collections.PathCollection at 0x7fdeceea6208>"
            ]
          },
          "metadata": {
            "tags": []
          },
          "execution_count": 7
        },
        {
          "output_type": "display_data",
          "data": {
            "image/png": "[encoded data removed]",
            "text/plain": [
              "<Figure size 432x288 with 1 Axes>"
            ]
          },
          "metadata": {
            "tags": [],
            "needs_background": "light"
          }
        }
      ]
    },
    {
      "cell_type": "markdown",
      "metadata": {
        "id": "KkxFjfXAS9ns"
      },
      "source": [
        "It seems to have some outliers in this dataset. Let's use z-score to remove then and help in our analysis."
      ]
    },
    {
      "cell_type": "code",
      "metadata": {
        "id": "lGexbWe4TT1c"
      },
      "source": [
        "z_scores = stats.zscore(df2['price'])\r\n",
        "abs_z_scores = np.abs(z_scores)\r\n",
        "filtered_entries = (abs_z_scores < 3)\r\n",
        "df_new = df2[filtered_entries]"
      ],
      "execution_count": 8,
      "outputs": []
    },
    {
      "cell_type": "code",
      "metadata": {
        "colab": {
          "base_uri": "https://localhost:8080/"
        },
        "id": "qZj9w4PufdfH",
        "outputId": "da5c9fb7-f92c-4100-d72a-d802a5e57c54"
      },
      "source": [
        "df2.shape\r\n"
      ],
      "execution_count": 9,
      "outputs": [
        {
          "output_type": "execute_result",
          "data": {
            "text/plain": [
              "(24913, 74)"
            ]
          },
          "metadata": {
            "tags": []
          },
          "execution_count": 9
        }
      ]
    },
    {
      "cell_type": "code",
      "metadata": {
        "colab": {
          "base_uri": "https://localhost:8080/"
        },
        "id": "6tlAA4cCfj5C",
        "outputId": "48cba342-52b1-4174-ae54-e83dfb7d9e93"
      },
      "source": [
        "df_new.shape"
      ],
      "execution_count": 10,
      "outputs": [
        {
          "output_type": "execute_result",
          "data": {
            "text/plain": [
              "(24836, 74)"
            ]
          },
          "metadata": {
            "tags": []
          },
          "execution_count": 10
        }
      ]
    },
    {
      "cell_type": "code",
      "metadata": {
        "colab": {
          "base_uri": "https://localhost:8080/",
          "height": 293
        },
        "id": "o1kjfdYnWNN0",
        "outputId": "f7930e2d-7b59-4d95-c84e-9c0399f9a2e9"
      },
      "source": [
        "plt.scatter(df_new['price'], df_new['id'])"
      ],
      "execution_count": 11,
      "outputs": [
        {
          "output_type": "execute_result",
          "data": {
            "text/plain": [
              "<matplotlib.collections.PathCollection at 0x7fdecee12390>"
            ]
          },
          "metadata": {
            "tags": []
          },
          "execution_count": 11
        },
        {
          "output_type": "display_data",
          "data": {
            "image/png": "[encoded data removed]",
            "text/plain": [
              "<Figure size 432x288 with 1 Axes>"
            ]
          },
          "metadata": {
            "tags": [],
            "needs_background": "light"
          }
        }
      ]
    },
    {
      "cell_type": "code",
      "metadata": {
        "colab": {
          "base_uri": "https://localhost:8080/",
          "height": 415
        },
        "id": "qVuZyUAJWp89",
        "outputId": "baa82ec8-0276-4c4c-e95c-5dcee89fc903"
      },
      "source": [
        "df_new['review_scores_rating'].groupby(df_new['neighbourhood_cleansed']).mean().sort_values(ascending=False).plot(kind=\"bar\")"
      ],
      "execution_count": 12,
      "outputs": [
        {
          "output_type": "execute_result",
          "data": {
            "text/plain": [
              "<matplotlib.axes._subplots.AxesSubplot at 0x7fdecedc68d0>"
            ]
          },
          "metadata": {
            "tags": []
          },
          "execution_count": 12
        },
        {
          "output_type": "display_data",
          "data": {
            "image/png": "[encoded data removed]",
            "text/plain": [
              "<Figure size 432x288 with 1 Axes>"
            ]
          },
          "metadata": {
            "tags": [],
            "needs_background": "light"
          }
        }
      ]
    },
    {
      "cell_type": "code",
      "metadata": {
        "colab": {
          "base_uri": "https://localhost:8080/",
          "height": 416
        },
        "id": "KMp5cGqdW2YO",
        "outputId": "b5019ca0-10d5-478f-c370-3304626d8e13"
      },
      "source": [
        "#df_new['price'] = df_new['price'].replace('[\\$,]', '', regex=True).astype(float)\r\n",
        "df_new['price'].groupby(df_new['neighbourhood_cleansed']).mean().sort_values(ascending=False).plot(kind=\"bar\")"
      ],
      "execution_count": 13,
      "outputs": [
        {
          "output_type": "execute_result",
          "data": {
            "text/plain": [
              "<matplotlib.axes._subplots.AxesSubplot at 0x7fdececa1d68>"
            ]
          },
          "metadata": {
            "tags": []
          },
          "execution_count": 13
        },
        {
          "output_type": "display_data",
          "data": {
            "image/png": "[encoded data removed]",
            "text/plain": [
              "<Figure size 432x288 with 1 Axes>"
            ]
          },
          "metadata": {
            "tags": [],
            "needs_background": "light"
          }
        }
      ]
    },
    {
      "cell_type": "markdown",
      "metadata": {
        "id": "Ri3Rz0i16nMZ"
      },
      "source": [
        "Removing the outliers, it was possible to notice a substancial difference in the position of the most expensive neighbourhoods. Joá is considered a \"luxurious neighbourhood\" in Rio, so this gap in the average price seems aceptable.\r\n",
        "\r\n",
        "From the values and plots above, it is possible to note that the 3 neighbourhoods with the highest average rating (Engenho Novo, Alto da Boa Vista and Cosme Velho) are not in the group of the most expensive neighbourhoods (except for Alto da Boa Vista). Engenho Novo is just in the 47th position (of 50 considered neighbourhoods), while Alto da Boa Vista and Cosme Velho are in the 2th and 18th, respectively.\r\n",
        "\r\n",
        "For 3 most expensive neighbourhoods (Joá, Alto da Boa Vista and São Conrado), they are positioned in the 6th, 2th and 43th , respectively, in the average rating ranking. Aparently, there is no direct relationship between rent price and user rating. There are even some neighbourdhoods with high average price in the last positions in the rating ranking ( Like São Conrado).\r\n"
      ]
    },
    {
      "cell_type": "markdown",
      "metadata": {
        "id": "bI-V_aEPKx29"
      },
      "source": [
        "**Question 2**\r\n",
        "\r\n",
        "The rent price normally increases as the number of people that the house/apartment can accommodate increases? For this analysis, we wil get just 'accommodates' group with more than 30 records in the database to have statistical significance.\r\n"
      ]
    },
    {
      "cell_type": "code",
      "metadata": {
        "colab": {
          "base_uri": "https://localhost:8080/"
        },
        "id": "_0gFMKhcL2l6",
        "outputId": "f32f694a-7270-4179-cd38-a6567453c376"
      },
      "source": [
        "df3=df_new.groupby('accommodates').filter(lambda x: x['accommodates'].count()>=30)\r\n",
        "df3['price'] = df3['price'].replace('[\\$,]', '', regex=True).astype(float)\r\n",
        "df3['price'].groupby(df3['accommodates']).mean()\r\n",
        "#df['price'].groupby(df2['accommodates']).count()"
      ],
      "execution_count": 14,
      "outputs": [
        {
          "output_type": "execute_result",
          "data": {
            "text/plain": [
              "accommodates\n",
              "1      260.325599\n",
              "2      333.291013\n",
              "3      400.241849\n",
              "4      613.020414\n",
              "5      737.125063\n",
              "6     1120.030851\n",
              "7     1240.722745\n",
              "8     1742.566704\n",
              "9     1657.100592\n",
              "10    2256.763713\n",
              "11    1893.886364\n",
              "12    2762.504950\n",
              "14    3289.037037\n",
              "15    2674.781250\n",
              "16    2599.651282\n",
              "Name: price, dtype: float64"
            ]
          },
          "metadata": {
            "tags": []
          },
          "execution_count": 14
        }
      ]
    },
    {
      "cell_type": "code",
      "metadata": {
        "colab": {
          "base_uri": "https://localhost:8080/"
        },
        "id": "rA_Lc_1KMqci",
        "outputId": "407e85cc-39e0-475b-b599-931b8ebfdd7a"
      },
      "source": [
        "df3['price'].groupby(df3['accommodates']).count()"
      ],
      "execution_count": 15,
      "outputs": [
        {
          "output_type": "execute_result",
          "data": {
            "text/plain": [
              "accommodates\n",
              "1     1293\n",
              "2     6310\n",
              "3     2602\n",
              "4     6641\n",
              "5     1983\n",
              "6     3209\n",
              "7      572\n",
              "8      989\n",
              "9      169\n",
              "10     474\n",
              "11      44\n",
              "12     202\n",
              "14      54\n",
              "15      64\n",
              "16     195\n",
              "Name: price, dtype: int64"
            ]
          },
          "metadata": {
            "tags": []
          },
          "execution_count": 15
        }
      ]
    },
    {
      "cell_type": "code",
      "metadata": {
        "colab": {
          "base_uri": "https://localhost:8080/",
          "height": 299
        },
        "id": "NuPL1lR2PHYP",
        "outputId": "ca2be1c7-3594-4043-b725-ba3310e1c4d8"
      },
      "source": [
        "df3['price'].groupby(df3['accommodates']).mean().plot(kind=\"bar\")"
      ],
      "execution_count": 16,
      "outputs": [
        {
          "output_type": "execute_result",
          "data": {
            "text/plain": [
              "<matplotlib.axes._subplots.AxesSubplot at 0x7fdeceb0a588>"
            ]
          },
          "metadata": {
            "tags": []
          },
          "execution_count": 16
        },
        {
          "output_type": "display_data",
          "data": {
            "image/png": "[encoded data removed]",
            "text/plain": [
              "<Figure size 432x288 with 1 Axes>"
            ]
          },
          "metadata": {
            "tags": [],
            "needs_background": "light"
          }
        }
      ]
    },
    {
      "cell_type": "markdown",
      "metadata": {
        "id": "PqKgKLy1P-QC"
      },
      "source": [
        "Based on the values above, it seems that the average price  increases as the number of people that the apartment/house accommodates increases, for the most of the considered groups. It is not a linear relationship, but it seems to be some correlation between number of people that the apartment/house accommodates and the charged price.\r\n"
      ]
    },
    {
      "cell_type": "markdown",
      "metadata": {
        "id": "Cpk934iAHTfv"
      },
      "source": [
        "**Question 3**\r\n",
        "\r\n",
        "Is it possible to predict the rent price of a house/apartment based in its main attributes?\r\n",
        "First let's choose some numeric attributes and try to find a relationship with the rent price.\r\n"
      ]
    },
    {
      "cell_type": "code",
      "metadata": {
        "colab": {
          "base_uri": "https://localhost:8080/",
          "height": 419
        },
        "id": "Hs3ArFVIHrrq",
        "outputId": "ef2be575-69b4-450b-b132-0a55ab81e629"
      },
      "source": [
        "df_new['price'] = df_new['price'].replace('[\\$,]', '', regex=True).astype(float)\r\n",
        "df_new.describe()"
      ],
      "execution_count": 17,
      "outputs": [
        {
          "output_type": "stream",
          "text": [
            "/usr/local/lib/python3.6/dist-packages/ipykernel_launcher.py:1: SettingWithCopyWarning: \n",
            "A value is trying to be set on a copy of a slice from a DataFrame.\n",
            "Try using .loc[row_indexer,col_indexer] = value instead\n",
            "\n",
            "See the caveats in the documentation: https://pandas.pydata.org/pandas-docs/stable/user_guide/indexing.html#returning-a-view-versus-a-copy\n",
            "  \"\"\"Entry point for launching an IPython kernel.\n"
          ],
          "name": "stderr"
        },
        {
          "output_type": "execute_result",
          "data": {
            "text/html": [
              "<div>\n",
              "<style scoped>\n",
              "    .dataframe tbody tr th:only-of-type {\n",
              "        vertical-align: middle;\n",
              "    }\n",
              "\n",
              "    .dataframe tbody tr th {\n",
              "        vertical-align: top;\n",
              "    }\n",
              "\n",
              "    .dataframe thead th {\n",
              "        text-align: right;\n",
              "    }\n",
              "</style>\n",
              "<table border=\"1\" class=\"dataframe\">\n",
              "  <thead>\n",
              "    <tr style=\"text-align: right;\">\n",
              "      <th></th>\n",
              "      <th>id</th>\n",
              "      <th>host_id</th>\n",
              "      <th>host_listings_count</th>\n",
              "      <th>host_total_listings_count</th>\n",
              "      <th>neighbourhood_group_cleansed</th>\n",
              "      <th>accommodates</th>\n",
              "      <th>bathrooms</th>\n",
              "      <th>bedrooms</th>\n",
              "      <th>beds</th>\n",
              "      <th>price</th>\n",
              "      <th>minimum_nights</th>\n",
              "      <th>maximum_nights</th>\n",
              "      <th>minimum_minimum_nights</th>\n",
              "      <th>maximum_minimum_nights</th>\n",
              "      <th>minimum_maximum_nights</th>\n",
              "      <th>maximum_maximum_nights</th>\n",
              "      <th>minimum_nights_avg_ntm</th>\n",
              "      <th>maximum_nights_avg_ntm</th>\n",
              "      <th>calendar_updated</th>\n",
              "      <th>availability_30</th>\n",
              "      <th>availability_60</th>\n",
              "      <th>availability_90</th>\n",
              "      <th>availability_365</th>\n",
              "      <th>number_of_reviews</th>\n",
              "      <th>number_of_reviews_ltm</th>\n",
              "      <th>number_of_reviews_l30d</th>\n",
              "      <th>review_scores_rating</th>\n",
              "      <th>review_scores_accuracy</th>\n",
              "      <th>review_scores_cleanliness</th>\n",
              "      <th>review_scores_checkin</th>\n",
              "      <th>review_scores_communication</th>\n",
              "      <th>review_scores_location</th>\n",
              "      <th>review_scores_value</th>\n",
              "      <th>license</th>\n",
              "      <th>calculated_host_listings_count</th>\n",
              "      <th>calculated_host_listings_count_entire_homes</th>\n",
              "      <th>calculated_host_listings_count_private_rooms</th>\n",
              "      <th>calculated_host_listings_count_shared_rooms</th>\n",
              "      <th>reviews_per_month</th>\n",
              "    </tr>\n",
              "  </thead>\n",
              "  <tbody>\n",
              "    <tr>\n",
              "      <th>count</th>\n",
              "      <td>2.483600e+04</td>\n",
              "      <td>2.483600e+04</td>\n",
              "      <td>24828.000000</td>\n",
              "      <td>24828.000000</td>\n",
              "      <td>0.0</td>\n",
              "      <td>24836.000000</td>\n",
              "      <td>0.0</td>\n",
              "      <td>23145.000000</td>\n",
              "      <td>24614.000000</td>\n",
              "      <td>24836.000000</td>\n",
              "      <td>24836.000000</td>\n",
              "      <td>2.483600e+04</td>\n",
              "      <td>24836.000000</td>\n",
              "      <td>24836.000000</td>\n",
              "      <td>2.483600e+04</td>\n",
              "      <td>2.483600e+04</td>\n",
              "      <td>24836.000000</td>\n",
              "      <td>2.483600e+04</td>\n",
              "      <td>0.0</td>\n",
              "      <td>24836.000000</td>\n",
              "      <td>24836.000000</td>\n",
              "      <td>24836.000000</td>\n",
              "      <td>24836.000000</td>\n",
              "      <td>24836.000000</td>\n",
              "      <td>24836.000000</td>\n",
              "      <td>24836.000000</td>\n",
              "      <td>14982.000000</td>\n",
              "      <td>14968.000000</td>\n",
              "      <td>14971.000000</td>\n",
              "      <td>14969.000000</td>\n",
              "      <td>14974.000000</td>\n",
              "      <td>14969.000000</td>\n",
              "      <td>14971.000000</td>\n",
              "      <td>0.0</td>\n",
              "      <td>24836.000000</td>\n",
              "      <td>24836.000000</td>\n",
              "      <td>24836.000000</td>\n",
              "      <td>24836.000000</td>\n",
              "      <td>15510.000000</td>\n",
              "    </tr>\n",
              "    <tr>\n",
              "      <th>mean</th>\n",
              "      <td>2.442227e+07</td>\n",
              "      <td>9.522066e+07</td>\n",
              "      <td>8.451184</td>\n",
              "      <td>8.451184</td>\n",
              "      <td>NaN</td>\n",
              "      <td>4.176880</td>\n",
              "      <td>NaN</td>\n",
              "      <td>1.709138</td>\n",
              "      <td>2.548428</td>\n",
              "      <td>723.253021</td>\n",
              "      <td>4.743840</td>\n",
              "      <td>4.088446e+04</td>\n",
              "      <td>4.616967</td>\n",
              "      <td>5.366162</td>\n",
              "      <td>4.099169e+04</td>\n",
              "      <td>4.100670e+04</td>\n",
              "      <td>48.027219</td>\n",
              "      <td>4.100400e+05</td>\n",
              "      <td>NaN</td>\n",
              "      <td>16.870953</td>\n",
              "      <td>37.621678</td>\n",
              "      <td>59.765864</td>\n",
              "      <td>214.286318</td>\n",
              "      <td>12.288935</td>\n",
              "      <td>2.679659</td>\n",
              "      <td>0.232807</td>\n",
              "      <td>94.707849</td>\n",
              "      <td>9.650187</td>\n",
              "      <td>9.409058</td>\n",
              "      <td>9.812546</td>\n",
              "      <td>9.772138</td>\n",
              "      <td>9.780747</td>\n",
              "      <td>9.307595</td>\n",
              "      <td>NaN</td>\n",
              "      <td>6.700475</td>\n",
              "      <td>5.800612</td>\n",
              "      <td>0.780601</td>\n",
              "      <td>0.086568</td>\n",
              "      <td>57.362282</td>\n",
              "    </tr>\n",
              "    <tr>\n",
              "      <th>std</th>\n",
              "      <td>1.533437e+07</td>\n",
              "      <td>1.038903e+08</td>\n",
              "      <td>55.346975</td>\n",
              "      <td>55.346975</td>\n",
              "      <td>NaN</td>\n",
              "      <td>2.493963</td>\n",
              "      <td>NaN</td>\n",
              "      <td>1.043264</td>\n",
              "      <td>2.123266</td>\n",
              "      <td>1186.184284</td>\n",
              "      <td>18.977488</td>\n",
              "      <td>6.345399e+06</td>\n",
              "      <td>18.706317</td>\n",
              "      <td>20.000036</td>\n",
              "      <td>6.345398e+06</td>\n",
              "      <td>6.345398e+06</td>\n",
              "      <td>190.080210</td>\n",
              "      <td>6.345398e+07</td>\n",
              "      <td>NaN</td>\n",
              "      <td>11.804387</td>\n",
              "      <td>23.069996</td>\n",
              "      <td>33.814150</td>\n",
              "      <td>140.607958</td>\n",
              "      <td>29.799505</td>\n",
              "      <td>5.813390</td>\n",
              "      <td>0.773059</td>\n",
              "      <td>9.251106</td>\n",
              "      <td>0.895352</td>\n",
              "      <td>1.090339</td>\n",
              "      <td>0.726494</td>\n",
              "      <td>0.774197</td>\n",
              "      <td>0.698284</td>\n",
              "      <td>1.021300</td>\n",
              "      <td>NaN</td>\n",
              "      <td>20.277702</td>\n",
              "      <td>19.783642</td>\n",
              "      <td>1.682481</td>\n",
              "      <td>0.621534</td>\n",
              "      <td>81.284085</td>\n",
              "    </tr>\n",
              "    <tr>\n",
              "      <th>min</th>\n",
              "      <td>1.787800e+04</td>\n",
              "      <td>3.607000e+03</td>\n",
              "      <td>0.000000</td>\n",
              "      <td>0.000000</td>\n",
              "      <td>NaN</td>\n",
              "      <td>0.000000</td>\n",
              "      <td>NaN</td>\n",
              "      <td>1.000000</td>\n",
              "      <td>0.000000</td>\n",
              "      <td>0.000000</td>\n",
              "      <td>1.000000</td>\n",
              "      <td>1.000000e+00</td>\n",
              "      <td>1.000000</td>\n",
              "      <td>1.000000</td>\n",
              "      <td>1.000000e+00</td>\n",
              "      <td>1.000000e+00</td>\n",
              "      <td>10.000000</td>\n",
              "      <td>1.000000e+01</td>\n",
              "      <td>NaN</td>\n",
              "      <td>0.000000</td>\n",
              "      <td>0.000000</td>\n",
              "      <td>0.000000</td>\n",
              "      <td>0.000000</td>\n",
              "      <td>0.000000</td>\n",
              "      <td>0.000000</td>\n",
              "      <td>0.000000</td>\n",
              "      <td>20.000000</td>\n",
              "      <td>2.000000</td>\n",
              "      <td>2.000000</td>\n",
              "      <td>2.000000</td>\n",
              "      <td>2.000000</td>\n",
              "      <td>2.000000</td>\n",
              "      <td>2.000000</td>\n",
              "      <td>NaN</td>\n",
              "      <td>1.000000</td>\n",
              "      <td>0.000000</td>\n",
              "      <td>0.000000</td>\n",
              "      <td>0.000000</td>\n",
              "      <td>1.000000</td>\n",
              "    </tr>\n",
              "    <tr>\n",
              "      <th>25%</th>\n",
              "      <td>1.181795e+07</td>\n",
              "      <td>1.399613e+07</td>\n",
              "      <td>1.000000</td>\n",
              "      <td>1.000000</td>\n",
              "      <td>NaN</td>\n",
              "      <td>2.000000</td>\n",
              "      <td>NaN</td>\n",
              "      <td>1.000000</td>\n",
              "      <td>1.000000</td>\n",
              "      <td>201.000000</td>\n",
              "      <td>2.000000</td>\n",
              "      <td>3.000000e+01</td>\n",
              "      <td>1.000000</td>\n",
              "      <td>2.000000</td>\n",
              "      <td>8.900000e+01</td>\n",
              "      <td>9.000000e+01</td>\n",
              "      <td>20.000000</td>\n",
              "      <td>9.000000e+02</td>\n",
              "      <td>NaN</td>\n",
              "      <td>3.000000</td>\n",
              "      <td>16.000000</td>\n",
              "      <td>31.000000</td>\n",
              "      <td>82.000000</td>\n",
              "      <td>0.000000</td>\n",
              "      <td>0.000000</td>\n",
              "      <td>0.000000</td>\n",
              "      <td>93.000000</td>\n",
              "      <td>10.000000</td>\n",
              "      <td>9.000000</td>\n",
              "      <td>10.000000</td>\n",
              "      <td>10.000000</td>\n",
              "      <td>10.000000</td>\n",
              "      <td>9.000000</td>\n",
              "      <td>NaN</td>\n",
              "      <td>1.000000</td>\n",
              "      <td>1.000000</td>\n",
              "      <td>0.000000</td>\n",
              "      <td>0.000000</td>\n",
              "      <td>9.000000</td>\n",
              "    </tr>\n",
              "    <tr>\n",
              "      <th>50%</th>\n",
              "      <td>2.270714e+07</td>\n",
              "      <td>5.673417e+07</td>\n",
              "      <td>2.000000</td>\n",
              "      <td>2.000000</td>\n",
              "      <td>NaN</td>\n",
              "      <td>4.000000</td>\n",
              "      <td>NaN</td>\n",
              "      <td>1.000000</td>\n",
              "      <td>2.000000</td>\n",
              "      <td>390.000000</td>\n",
              "      <td>3.000000</td>\n",
              "      <td>1.125000e+03</td>\n",
              "      <td>2.000000</td>\n",
              "      <td>3.000000</td>\n",
              "      <td>1.125000e+03</td>\n",
              "      <td>1.125000e+03</td>\n",
              "      <td>30.000000</td>\n",
              "      <td>1.125000e+04</td>\n",
              "      <td>NaN</td>\n",
              "      <td>20.000000</td>\n",
              "      <td>49.000000</td>\n",
              "      <td>78.000000</td>\n",
              "      <td>241.000000</td>\n",
              "      <td>2.000000</td>\n",
              "      <td>0.000000</td>\n",
              "      <td>0.000000</td>\n",
              "      <td>98.000000</td>\n",
              "      <td>10.000000</td>\n",
              "      <td>10.000000</td>\n",
              "      <td>10.000000</td>\n",
              "      <td>10.000000</td>\n",
              "      <td>10.000000</td>\n",
              "      <td>10.000000</td>\n",
              "      <td>NaN</td>\n",
              "      <td>1.000000</td>\n",
              "      <td>1.000000</td>\n",
              "      <td>0.000000</td>\n",
              "      <td>0.000000</td>\n",
              "      <td>23.000000</td>\n",
              "    </tr>\n",
              "    <tr>\n",
              "      <th>75%</th>\n",
              "      <td>4.011007e+07</td>\n",
              "      <td>1.440112e+08</td>\n",
              "      <td>4.000000</td>\n",
              "      <td>4.000000</td>\n",
              "      <td>NaN</td>\n",
              "      <td>5.000000</td>\n",
              "      <td>NaN</td>\n",
              "      <td>2.000000</td>\n",
              "      <td>3.000000</td>\n",
              "      <td>777.000000</td>\n",
              "      <td>4.000000</td>\n",
              "      <td>1.125000e+03</td>\n",
              "      <td>4.000000</td>\n",
              "      <td>5.000000</td>\n",
              "      <td>1.125000e+03</td>\n",
              "      <td>1.125000e+03</td>\n",
              "      <td>40.000000</td>\n",
              "      <td>1.125000e+04</td>\n",
              "      <td>NaN</td>\n",
              "      <td>29.000000</td>\n",
              "      <td>58.000000</td>\n",
              "      <td>88.000000</td>\n",
              "      <td>359.000000</td>\n",
              "      <td>9.000000</td>\n",
              "      <td>2.000000</td>\n",
              "      <td>0.000000</td>\n",
              "      <td>100.000000</td>\n",
              "      <td>10.000000</td>\n",
              "      <td>10.000000</td>\n",
              "      <td>10.000000</td>\n",
              "      <td>10.000000</td>\n",
              "      <td>10.000000</td>\n",
              "      <td>10.000000</td>\n",
              "      <td>NaN</td>\n",
              "      <td>3.000000</td>\n",
              "      <td>2.000000</td>\n",
              "      <td>1.000000</td>\n",
              "      <td>0.000000</td>\n",
              "      <td>73.000000</td>\n",
              "    </tr>\n",
              "    <tr>\n",
              "      <th>max</th>\n",
              "      <td>4.722176e+07</td>\n",
              "      <td>3.812899e+08</td>\n",
              "      <td>4355.000000</td>\n",
              "      <td>4355.000000</td>\n",
              "      <td>NaN</td>\n",
              "      <td>16.000000</td>\n",
              "      <td>NaN</td>\n",
              "      <td>30.000000</td>\n",
              "      <td>50.000000</td>\n",
              "      <td>16481.000000</td>\n",
              "      <td>1000.000000</td>\n",
              "      <td>1.000000e+09</td>\n",
              "      <td>1000.000000</td>\n",
              "      <td>1000.000000</td>\n",
              "      <td>1.000000e+09</td>\n",
              "      <td>1.000000e+09</td>\n",
              "      <td>10000.000000</td>\n",
              "      <td>1.000000e+10</td>\n",
              "      <td>NaN</td>\n",
              "      <td>30.000000</td>\n",
              "      <td>60.000000</td>\n",
              "      <td>90.000000</td>\n",
              "      <td>365.000000</td>\n",
              "      <td>431.000000</td>\n",
              "      <td>116.000000</td>\n",
              "      <td>15.000000</td>\n",
              "      <td>100.000000</td>\n",
              "      <td>10.000000</td>\n",
              "      <td>10.000000</td>\n",
              "      <td>10.000000</td>\n",
              "      <td>10.000000</td>\n",
              "      <td>10.000000</td>\n",
              "      <td>10.000000</td>\n",
              "      <td>NaN</td>\n",
              "      <td>200.000000</td>\n",
              "      <td>195.000000</td>\n",
              "      <td>17.000000</td>\n",
              "      <td>11.000000</td>\n",
              "      <td>1455.000000</td>\n",
              "    </tr>\n",
              "  </tbody>\n",
              "</table>\n",
              "</div>"
            ],
            "text/plain": [
              "                 id  ...  reviews_per_month\n",
              "count  2.483600e+04  ...       15510.000000\n",
              "mean   2.442227e+07  ...          57.362282\n",
              "std    1.533437e+07  ...          81.284085\n",
              "min    1.787800e+04  ...           1.000000\n",
              "25%    1.181795e+07  ...           9.000000\n",
              "50%    2.270714e+07  ...          23.000000\n",
              "75%    4.011007e+07  ...          73.000000\n",
              "max    4.722176e+07  ...        1455.000000\n",
              "\n",
              "[8 rows x 39 columns]"
            ]
          },
          "metadata": {
            "tags": []
          },
          "execution_count": 17
        }
      ]
    },
    {
      "cell_type": "code",
      "metadata": {
        "colab": {
          "base_uri": "https://localhost:8080/"
        },
        "id": "oA5ErheenvkW",
        "outputId": "e21eab53-0bd1-4b87-a698-3f99bea34c29"
      },
      "source": [
        "df_new['bathrooms_text']"
      ],
      "execution_count": 18,
      "outputs": [
        {
          "output_type": "execute_result",
          "data": {
            "text/plain": [
              "0           1 bath\n",
              "1           1 bath\n",
              "2        1.5 baths\n",
              "3           1 bath\n",
              "4           1 bath\n",
              "           ...    \n",
              "25779      6 baths\n",
              "25780       1 bath\n",
              "25781      2 baths\n",
              "25782       1 bath\n",
              "25783       1 bath\n",
              "Name: bathrooms_text, Length: 24836, dtype: object"
            ]
          },
          "metadata": {
            "tags": []
          },
          "execution_count": 18
        }
      ]
    },
    {
      "cell_type": "markdown",
      "metadata": {
        "id": "1r2iS2gUkdS1"
      },
      "source": [
        "The 'bathrooms' column seems to be all null, while the column 'bathrooms_text' have some information about the number of bathrooms. Let's try get some numeric information from this column.\r\n",
        "\r\n"
      ]
    },
    {
      "cell_type": "code",
      "metadata": {
        "colab": {
          "base_uri": "https://localhost:8080/"
        },
        "id": "Fk374IEwk998",
        "outputId": "24d9bd03-0ca7-407a-8bdf-6dbd94095213"
      },
      "source": [
        "df_new['bathrooms_text']=df_new['bathrooms_text'].str.split(' ').str[0]\r\n",
        "df_new['bathrooms_text']"
      ],
      "execution_count": 19,
      "outputs": [
        {
          "output_type": "stream",
          "text": [
            "/usr/local/lib/python3.6/dist-packages/ipykernel_launcher.py:1: SettingWithCopyWarning: \n",
            "A value is trying to be set on a copy of a slice from a DataFrame.\n",
            "Try using .loc[row_indexer,col_indexer] = value instead\n",
            "\n",
            "See the caveats in the documentation: https://pandas.pydata.org/pandas-docs/stable/user_guide/indexing.html#returning-a-view-versus-a-copy\n",
            "  \"\"\"Entry point for launching an IPython kernel.\n"
          ],
          "name": "stderr"
        },
        {
          "output_type": "execute_result",
          "data": {
            "text/plain": [
              "0          1\n",
              "1          1\n",
              "2        1.5\n",
              "3          1\n",
              "4          1\n",
              "        ... \n",
              "25779      6\n",
              "25780      1\n",
              "25781      2\n",
              "25782      1\n",
              "25783      1\n",
              "Name: bathrooms_text, Length: 24836, dtype: object"
            ]
          },
          "metadata": {
            "tags": []
          },
          "execution_count": 19
        }
      ]
    },
    {
      "cell_type": "code",
      "metadata": {
        "colab": {
          "base_uri": "https://localhost:8080/"
        },
        "id": "ZNbwClI-sXjf",
        "outputId": "d64338c7-c07c-41c6-b697-18ba54412372"
      },
      "source": [
        "df_new['bathrooms_text']"
      ],
      "execution_count": 20,
      "outputs": [
        {
          "output_type": "execute_result",
          "data": {
            "text/plain": [
              "0          1\n",
              "1          1\n",
              "2        1.5\n",
              "3          1\n",
              "4          1\n",
              "        ... \n",
              "25779      6\n",
              "25780      1\n",
              "25781      2\n",
              "25782      1\n",
              "25783      1\n",
              "Name: bathrooms_text, Length: 24836, dtype: object"
            ]
          },
          "metadata": {
            "tags": []
          },
          "execution_count": 20
        }
      ]
    },
    {
      "cell_type": "code",
      "metadata": {
        "colab": {
          "base_uri": "https://localhost:8080/"
        },
        "id": "qBNbNtJdsTCo",
        "outputId": "19734c24-99cf-499d-efb8-e3f0daa7d295"
      },
      "source": [
        "df_new.loc[df_new['bathrooms_text'] == \"Shared\", 'bathrooms_text'] = 0.5\r\n",
        "df_new.loc[df_new['bathrooms_text'] == \"Half-bath\", 'bathrooms_text'] = 0.5\r\n",
        "df_new.loc[df_new['bathrooms_text'] == \"Private\", 'bathrooms_text'] = 0.5\r\n",
        "df_new['bathrooms_text']=df_new['bathrooms_text'].astype(float)"
      ],
      "execution_count": 21,
      "outputs": [
        {
          "output_type": "stream",
          "text": [
            "/usr/local/lib/python3.6/dist-packages/pandas/core/indexing.py:1763: SettingWithCopyWarning: \n",
            "A value is trying to be set on a copy of a slice from a DataFrame.\n",
            "Try using .loc[row_indexer,col_indexer] = value instead\n",
            "\n",
            "See the caveats in the documentation: https://pandas.pydata.org/pandas-docs/stable/user_guide/indexing.html#returning-a-view-versus-a-copy\n",
            "  isetter(loc, value)\n",
            "/usr/local/lib/python3.6/dist-packages/ipykernel_launcher.py:4: SettingWithCopyWarning: \n",
            "A value is trying to be set on a copy of a slice from a DataFrame.\n",
            "Try using .loc[row_indexer,col_indexer] = value instead\n",
            "\n",
            "See the caveats in the documentation: https://pandas.pydata.org/pandas-docs/stable/user_guide/indexing.html#returning-a-view-versus-a-copy\n",
            "  after removing the cwd from sys.path.\n"
          ],
          "name": "stderr"
        }
      ]
    },
    {
      "cell_type": "code",
      "metadata": {
        "colab": {
          "base_uri": "https://localhost:8080/",
          "height": 281
        },
        "id": "fRjenuOVQ6rp",
        "outputId": "c96ff3ab-0c5f-4fa3-b526-b0d2cf244b6e"
      },
      "source": [
        "df_corr=df_new[['price','accommodates','bedrooms','beds','bathrooms_text','review_scores_rating','number_of_reviews','reviews_per_month']]\r\n",
        "df_corr.hist();"
      ],
      "execution_count": 22,
      "outputs": [
        {
          "output_type": "display_data",
          "data": {
            "image/png": "[encoded data removed]",
            "text/plain": [
              "<Figure size 432x288 with 9 Axes>"
            ]
          },
          "metadata": {
            "tags": [],
            "needs_background": "light"
          }
        }
      ]
    },
    {
      "cell_type": "code",
      "metadata": {
        "colab": {
          "base_uri": "https://localhost:8080/",
          "height": 364
        },
        "id": "MIgTT0L8SqDf",
        "outputId": "4614d6a8-c51f-4a20-9048-7f9dbb2de620"
      },
      "source": [
        "sns.heatmap(df_corr.corr(), annot=True, fmt=\".2f\");"
      ],
      "execution_count": 23,
      "outputs": [
        {
          "output_type": "display_data",
          "data": {
            "image/png": "[encoded data removed]",
            "text/plain": [
              "<Figure size 432x288 with 2 Axes>"
            ]
          },
          "metadata": {
            "tags": [],
            "needs_background": "light"
          }
        }
      ]
    },
    {
      "cell_type": "code",
      "metadata": {
        "id": "yl5KeM8KnIbV"
      },
      "source": [
        ""
      ],
      "execution_count": 23,
      "outputs": []
    },
    {
      "cell_type": "markdown",
      "metadata": {
        "id": "3JnAEeC2fJPo"
      },
      "source": [
        "The variables related to reviews doesn't seem to have a strong relationship with the price, while the variables number of beds, bedrooms, bathrooms and people that the apartment accommodates seems to have a strong relationship.\r\n",
        "\r\n",
        "Let's use these 4 variables (beds, bedrooms,bathrooms and accommodates) to try to predict the rent price.\r\n",
        "\r\n",
        "\r\n"
      ]
    },
    {
      "cell_type": "code",
      "metadata": {
        "id": "lQ7X1wTsg73C"
      },
      "source": [
        "#Drop the rows with missing price values\r\n",
        "df_new  = df_new.dropna(subset=['price'], axis=0)"
      ],
      "execution_count": 24,
      "outputs": []
    },
    {
      "cell_type": "code",
      "metadata": {
        "id": "lujglXa3xsVR"
      },
      "source": [
        "#Fill the mean of the column for any missing values\r\n",
        "df_new=df_new.fillna(df_new.mean())"
      ],
      "execution_count": 25,
      "outputs": []
    },
    {
      "cell_type": "code",
      "metadata": {
        "id": "9WtztcSex_Gn"
      },
      "source": [
        "#Split into X and y\r\n",
        "X = df_new[['accommodates','bedrooms','beds','bathrooms_text']]\r\n",
        "y = df_new['price']"
      ],
      "execution_count": 26,
      "outputs": []
    },
    {
      "cell_type": "code",
      "metadata": {
        "id": "fxi5MTUVz-cb"
      },
      "source": [
        "#Split into train and test\r\n",
        "X_train, X_test, y_train, y_test = train_test_split(X, y, test_size = .30) "
      ],
      "execution_count": 27,
      "outputs": []
    },
    {
      "cell_type": "code",
      "metadata": {
        "colab": {
          "base_uri": "https://localhost:8080/"
        },
        "id": "S3-aW6300TgE",
        "outputId": "ea4bdcba-aadc-473c-9a8a-31d063ae6a9d"
      },
      "source": [
        "from sklearn.linear_model import LinearRegression\r\n",
        "lm_model = LinearRegression(normalize=True) # Instantiate\r\n",
        "lm_model.fit(X_train, y_train) #Fit"
      ],
      "execution_count": 28,
      "outputs": [
        {
          "output_type": "execute_result",
          "data": {
            "text/plain": [
              "LinearRegression(copy_X=True, fit_intercept=True, n_jobs=None, normalize=True)"
            ]
          },
          "metadata": {
            "tags": []
          },
          "execution_count": 28
        }
      ]
    },
    {
      "cell_type": "code",
      "metadata": {
        "id": "IcK8qGaE0L93"
      },
      "source": [
        "#Predict using your model\r\n",
        "y_test_preds = lm_model.predict(X_test)\r\n",
        "y_train_preds = lm_model.predict(X_train)\r\n",
        "\r\n",
        "#Score using your model\r\n",
        "test_score = r2_score(y_test, y_test_preds)\r\n",
        "train_score = r2_score(y_train, y_train_preds)\r\n",
        "\r\n",
        "\r\n",
        "    \r\n",
        "  \r\n",
        "\r\n"
      ],
      "execution_count": 29,
      "outputs": []
    },
    {
      "cell_type": "code",
      "metadata": {
        "colab": {
          "base_uri": "https://localhost:8080/"
        },
        "id": "IEH_Nu-p2oRb",
        "outputId": "0b077bbf-2435-45c6-f877-d233e4147464"
      },
      "source": [
        "#Print training and testing score\r\n",
        "print(\"The rsquared on the training data was {}.  The rsquared on the test data was {}.\".format(train_score, test_score))"
      ],
      "execution_count": 30,
      "outputs": [
        {
          "output_type": "stream",
          "text": [
            "The rsquared on the training data was 0.29433065491763377.  The rsquared on the test data was 0.2665094679427027.\n"
          ],
          "name": "stdout"
        }
      ]
    },
    {
      "cell_type": "markdown",
      "metadata": {
        "id": "qjLTezJRoGg3"
      },
      "source": [
        "The results with just the numeric attributes is not quite good yet. Let´s try to add some categorical features."
      ]
    },
    {
      "cell_type": "code",
      "metadata": {
        "id": "LichlCotqo_W"
      },
      "source": [
        "X = df_new[['accommodates','bedrooms','beds','bathrooms_text','neighbourhood_cleansed','room_type','property_type']]\r\n",
        "y = df_new['price']"
      ],
      "execution_count": 31,
      "outputs": []
    },
    {
      "cell_type": "code",
      "metadata": {
        "id": "FUNhNlEqoXne"
      },
      "source": [
        "# Dummy the categorical variables\r\n",
        "cat_vars = X.select_dtypes(include=['object']).copy().columns\r\n",
        "for var in  cat_vars:\r\n",
        "    # for each cat add dummy var, drop original column\r\n",
        "    X = pd.concat([X.drop(var, axis=1), pd.get_dummies(X[var], prefix=var)], axis=1)"
      ],
      "execution_count": 32,
      "outputs": []
    },
    {
      "cell_type": "code",
      "metadata": {
        "colab": {
          "base_uri": "https://localhost:8080/",
          "height": 473
        },
        "id": "4ehJyzVlrI-C",
        "outputId": "c9134b18-faa7-4c91-8e2f-05c3e172fbdf"
      },
      "source": [
        "X"
      ],
      "execution_count": 33,
      "outputs": [
        {
          "output_type": "execute_result",
          "data": {
            "text/html": [
              "<div>\n",
              "<style scoped>\n",
              "    .dataframe tbody tr th:only-of-type {\n",
              "        vertical-align: middle;\n",
              "    }\n",
              "\n",
              "    .dataframe tbody tr th {\n",
              "        vertical-align: top;\n",
              "    }\n",
              "\n",
              "    .dataframe thead th {\n",
              "        text-align: right;\n",
              "    }\n",
              "</style>\n",
              "<table border=\"1\" class=\"dataframe\">\n",
              "  <thead>\n",
              "    <tr style=\"text-align: right;\">\n",
              "      <th></th>\n",
              "      <th>accommodates</th>\n",
              "      <th>bedrooms</th>\n",
              "      <th>beds</th>\n",
              "      <th>bathrooms_text</th>\n",
              "      <th>neighbourhood_cleansed_Alto da Boa Vista</th>\n",
              "      <th>neighbourhood_cleansed_Andaraí</th>\n",
              "      <th>neighbourhood_cleansed_Anil</th>\n",
              "      <th>neighbourhood_cleansed_Barra da Tijuca</th>\n",
              "      <th>neighbourhood_cleansed_Barra de Guaratiba</th>\n",
              "      <th>neighbourhood_cleansed_Botafogo</th>\n",
              "      <th>neighbourhood_cleansed_Camorim</th>\n",
              "      <th>neighbourhood_cleansed_Campo Grande</th>\n",
              "      <th>neighbourhood_cleansed_Catete</th>\n",
              "      <th>neighbourhood_cleansed_Centro</th>\n",
              "      <th>neighbourhood_cleansed_Copacabana</th>\n",
              "      <th>neighbourhood_cleansed_Cosme Velho</th>\n",
              "      <th>neighbourhood_cleansed_Curicica</th>\n",
              "      <th>neighbourhood_cleansed_Engenho Novo</th>\n",
              "      <th>neighbourhood_cleansed_Engenho de Dentro</th>\n",
              "      <th>neighbourhood_cleansed_Estácio</th>\n",
              "      <th>neighbourhood_cleansed_Flamengo</th>\n",
              "      <th>neighbourhood_cleansed_Freguesia (Jacarepaguá)</th>\n",
              "      <th>neighbourhood_cleansed_Glória</th>\n",
              "      <th>neighbourhood_cleansed_Grajaú</th>\n",
              "      <th>neighbourhood_cleansed_Guaratiba</th>\n",
              "      <th>neighbourhood_cleansed_Gávea</th>\n",
              "      <th>neighbourhood_cleansed_Humaitá</th>\n",
              "      <th>neighbourhood_cleansed_Ipanema</th>\n",
              "      <th>neighbourhood_cleansed_Itanhangá</th>\n",
              "      <th>neighbourhood_cleansed_Jacarepaguá</th>\n",
              "      <th>neighbourhood_cleansed_Jardim Botânico</th>\n",
              "      <th>neighbourhood_cleansed_Jardim Guanabara</th>\n",
              "      <th>neighbourhood_cleansed_Joá</th>\n",
              "      <th>neighbourhood_cleansed_Lagoa</th>\n",
              "      <th>neighbourhood_cleansed_Laranjeiras</th>\n",
              "      <th>neighbourhood_cleansed_Leblon</th>\n",
              "      <th>neighbourhood_cleansed_Leme</th>\n",
              "      <th>neighbourhood_cleansed_Maracanã</th>\n",
              "      <th>neighbourhood_cleansed_Paquetá</th>\n",
              "      <th>neighbourhood_cleansed_Pechincha</th>\n",
              "      <th>...</th>\n",
              "      <th>property_type_Private room in guesthouse</th>\n",
              "      <th>property_type_Private room in hostel</th>\n",
              "      <th>property_type_Private room in house</th>\n",
              "      <th>property_type_Private room in island</th>\n",
              "      <th>property_type_Private room in loft</th>\n",
              "      <th>property_type_Private room in nature lodge</th>\n",
              "      <th>property_type_Private room in serviced apartment</th>\n",
              "      <th>property_type_Private room in tent</th>\n",
              "      <th>property_type_Private room in tiny house</th>\n",
              "      <th>property_type_Private room in townhouse</th>\n",
              "      <th>property_type_Private room in treehouse</th>\n",
              "      <th>property_type_Private room in villa</th>\n",
              "      <th>property_type_Room in aparthotel</th>\n",
              "      <th>property_type_Room in bed and breakfast</th>\n",
              "      <th>property_type_Room in boutique hotel</th>\n",
              "      <th>property_type_Room in hostel</th>\n",
              "      <th>property_type_Room in hotel</th>\n",
              "      <th>property_type_Room in nature lodge</th>\n",
              "      <th>property_type_Room in serviced apartment</th>\n",
              "      <th>property_type_Shared room</th>\n",
              "      <th>property_type_Shared room in apartment</th>\n",
              "      <th>property_type_Shared room in bed and breakfast</th>\n",
              "      <th>property_type_Shared room in boutique hotel</th>\n",
              "      <th>property_type_Shared room in bungalow</th>\n",
              "      <th>property_type_Shared room in casa particular</th>\n",
              "      <th>property_type_Shared room in castle</th>\n",
              "      <th>property_type_Shared room in condominium</th>\n",
              "      <th>property_type_Shared room in cottage</th>\n",
              "      <th>property_type_Shared room in earth house</th>\n",
              "      <th>property_type_Shared room in guest suite</th>\n",
              "      <th>property_type_Shared room in guesthouse</th>\n",
              "      <th>property_type_Shared room in hostel</th>\n",
              "      <th>property_type_Shared room in house</th>\n",
              "      <th>property_type_Shared room in loft</th>\n",
              "      <th>property_type_Shared room in tiny house</th>\n",
              "      <th>property_type_Shared room in townhouse</th>\n",
              "      <th>property_type_Shared room in villa</th>\n",
              "      <th>property_type_Tiny house</th>\n",
              "      <th>property_type_Treehouse</th>\n",
              "      <th>property_type_Yurt</th>\n",
              "    </tr>\n",
              "  </thead>\n",
              "  <tbody>\n",
              "    <tr>\n",
              "      <th>0</th>\n",
              "      <td>5</td>\n",
              "      <td>2.000000</td>\n",
              "      <td>2.0</td>\n",
              "      <td>1.0</td>\n",
              "      <td>0</td>\n",
              "      <td>0</td>\n",
              "      <td>0</td>\n",
              "      <td>0</td>\n",
              "      <td>0</td>\n",
              "      <td>0</td>\n",
              "      <td>0</td>\n",
              "      <td>0</td>\n",
              "      <td>0</td>\n",
              "      <td>0</td>\n",
              "      <td>1</td>\n",
              "      <td>0</td>\n",
              "      <td>0</td>\n",
              "      <td>0</td>\n",
              "      <td>0</td>\n",
              "      <td>0</td>\n",
              "      <td>0</td>\n",
              "      <td>0</td>\n",
              "      <td>0</td>\n",
              "      <td>0</td>\n",
              "      <td>0</td>\n",
              "      <td>0</td>\n",
              "      <td>0</td>\n",
              "      <td>0</td>\n",
              "      <td>0</td>\n",
              "      <td>0</td>\n",
              "      <td>0</td>\n",
              "      <td>0</td>\n",
              "      <td>0</td>\n",
              "      <td>0</td>\n",
              "      <td>0</td>\n",
              "      <td>0</td>\n",
              "      <td>0</td>\n",
              "      <td>0</td>\n",
              "      <td>0</td>\n",
              "      <td>0</td>\n",
              "      <td>...</td>\n",
              "      <td>0</td>\n",
              "      <td>0</td>\n",
              "      <td>0</td>\n",
              "      <td>0</td>\n",
              "      <td>0</td>\n",
              "      <td>0</td>\n",
              "      <td>0</td>\n",
              "      <td>0</td>\n",
              "      <td>0</td>\n",
              "      <td>0</td>\n",
              "      <td>0</td>\n",
              "      <td>0</td>\n",
              "      <td>0</td>\n",
              "      <td>0</td>\n",
              "      <td>0</td>\n",
              "      <td>0</td>\n",
              "      <td>0</td>\n",
              "      <td>0</td>\n",
              "      <td>0</td>\n",
              "      <td>0</td>\n",
              "      <td>0</td>\n",
              "      <td>0</td>\n",
              "      <td>0</td>\n",
              "      <td>0</td>\n",
              "      <td>0</td>\n",
              "      <td>0</td>\n",
              "      <td>0</td>\n",
              "      <td>0</td>\n",
              "      <td>0</td>\n",
              "      <td>0</td>\n",
              "      <td>0</td>\n",
              "      <td>0</td>\n",
              "      <td>0</td>\n",
              "      <td>0</td>\n",
              "      <td>0</td>\n",
              "      <td>0</td>\n",
              "      <td>0</td>\n",
              "      <td>0</td>\n",
              "      <td>0</td>\n",
              "      <td>0</td>\n",
              "    </tr>\n",
              "    <tr>\n",
              "      <th>1</th>\n",
              "      <td>2</td>\n",
              "      <td>1.000000</td>\n",
              "      <td>2.0</td>\n",
              "      <td>1.0</td>\n",
              "      <td>0</td>\n",
              "      <td>0</td>\n",
              "      <td>0</td>\n",
              "      <td>0</td>\n",
              "      <td>0</td>\n",
              "      <td>0</td>\n",
              "      <td>0</td>\n",
              "      <td>0</td>\n",
              "      <td>0</td>\n",
              "      <td>0</td>\n",
              "      <td>1</td>\n",
              "      <td>0</td>\n",
              "      <td>0</td>\n",
              "      <td>0</td>\n",
              "      <td>0</td>\n",
              "      <td>0</td>\n",
              "      <td>0</td>\n",
              "      <td>0</td>\n",
              "      <td>0</td>\n",
              "      <td>0</td>\n",
              "      <td>0</td>\n",
              "      <td>0</td>\n",
              "      <td>0</td>\n",
              "      <td>0</td>\n",
              "      <td>0</td>\n",
              "      <td>0</td>\n",
              "      <td>0</td>\n",
              "      <td>0</td>\n",
              "      <td>0</td>\n",
              "      <td>0</td>\n",
              "      <td>0</td>\n",
              "      <td>0</td>\n",
              "      <td>0</td>\n",
              "      <td>0</td>\n",
              "      <td>0</td>\n",
              "      <td>0</td>\n",
              "      <td>...</td>\n",
              "      <td>0</td>\n",
              "      <td>0</td>\n",
              "      <td>0</td>\n",
              "      <td>0</td>\n",
              "      <td>0</td>\n",
              "      <td>0</td>\n",
              "      <td>0</td>\n",
              "      <td>0</td>\n",
              "      <td>0</td>\n",
              "      <td>0</td>\n",
              "      <td>0</td>\n",
              "      <td>0</td>\n",
              "      <td>0</td>\n",
              "      <td>0</td>\n",
              "      <td>0</td>\n",
              "      <td>0</td>\n",
              "      <td>0</td>\n",
              "      <td>0</td>\n",
              "      <td>0</td>\n",
              "      <td>0</td>\n",
              "      <td>0</td>\n",
              "      <td>0</td>\n",
              "      <td>0</td>\n",
              "      <td>0</td>\n",
              "      <td>0</td>\n",
              "      <td>0</td>\n",
              "      <td>0</td>\n",
              "      <td>0</td>\n",
              "      <td>0</td>\n",
              "      <td>0</td>\n",
              "      <td>0</td>\n",
              "      <td>0</td>\n",
              "      <td>0</td>\n",
              "      <td>0</td>\n",
              "      <td>0</td>\n",
              "      <td>0</td>\n",
              "      <td>0</td>\n",
              "      <td>0</td>\n",
              "      <td>0</td>\n",
              "      <td>0</td>\n",
              "    </tr>\n",
              "    <tr>\n",
              "      <th>2</th>\n",
              "      <td>2</td>\n",
              "      <td>1.000000</td>\n",
              "      <td>1.0</td>\n",
              "      <td>1.5</td>\n",
              "      <td>0</td>\n",
              "      <td>0</td>\n",
              "      <td>0</td>\n",
              "      <td>0</td>\n",
              "      <td>0</td>\n",
              "      <td>0</td>\n",
              "      <td>0</td>\n",
              "      <td>0</td>\n",
              "      <td>0</td>\n",
              "      <td>0</td>\n",
              "      <td>0</td>\n",
              "      <td>0</td>\n",
              "      <td>0</td>\n",
              "      <td>0</td>\n",
              "      <td>0</td>\n",
              "      <td>0</td>\n",
              "      <td>0</td>\n",
              "      <td>0</td>\n",
              "      <td>0</td>\n",
              "      <td>0</td>\n",
              "      <td>0</td>\n",
              "      <td>0</td>\n",
              "      <td>0</td>\n",
              "      <td>1</td>\n",
              "      <td>0</td>\n",
              "      <td>0</td>\n",
              "      <td>0</td>\n",
              "      <td>0</td>\n",
              "      <td>0</td>\n",
              "      <td>0</td>\n",
              "      <td>0</td>\n",
              "      <td>0</td>\n",
              "      <td>0</td>\n",
              "      <td>0</td>\n",
              "      <td>0</td>\n",
              "      <td>0</td>\n",
              "      <td>...</td>\n",
              "      <td>0</td>\n",
              "      <td>0</td>\n",
              "      <td>0</td>\n",
              "      <td>0</td>\n",
              "      <td>0</td>\n",
              "      <td>0</td>\n",
              "      <td>0</td>\n",
              "      <td>0</td>\n",
              "      <td>0</td>\n",
              "      <td>0</td>\n",
              "      <td>0</td>\n",
              "      <td>0</td>\n",
              "      <td>0</td>\n",
              "      <td>0</td>\n",
              "      <td>0</td>\n",
              "      <td>0</td>\n",
              "      <td>0</td>\n",
              "      <td>0</td>\n",
              "      <td>0</td>\n",
              "      <td>0</td>\n",
              "      <td>0</td>\n",
              "      <td>0</td>\n",
              "      <td>0</td>\n",
              "      <td>0</td>\n",
              "      <td>0</td>\n",
              "      <td>0</td>\n",
              "      <td>0</td>\n",
              "      <td>0</td>\n",
              "      <td>0</td>\n",
              "      <td>0</td>\n",
              "      <td>0</td>\n",
              "      <td>0</td>\n",
              "      <td>0</td>\n",
              "      <td>0</td>\n",
              "      <td>0</td>\n",
              "      <td>0</td>\n",
              "      <td>0</td>\n",
              "      <td>0</td>\n",
              "      <td>0</td>\n",
              "      <td>0</td>\n",
              "    </tr>\n",
              "    <tr>\n",
              "      <th>3</th>\n",
              "      <td>2</td>\n",
              "      <td>1.000000</td>\n",
              "      <td>1.0</td>\n",
              "      <td>1.0</td>\n",
              "      <td>0</td>\n",
              "      <td>0</td>\n",
              "      <td>0</td>\n",
              "      <td>0</td>\n",
              "      <td>0</td>\n",
              "      <td>0</td>\n",
              "      <td>0</td>\n",
              "      <td>0</td>\n",
              "      <td>0</td>\n",
              "      <td>0</td>\n",
              "      <td>1</td>\n",
              "      <td>0</td>\n",
              "      <td>0</td>\n",
              "      <td>0</td>\n",
              "      <td>0</td>\n",
              "      <td>0</td>\n",
              "      <td>0</td>\n",
              "      <td>0</td>\n",
              "      <td>0</td>\n",
              "      <td>0</td>\n",
              "      <td>0</td>\n",
              "      <td>0</td>\n",
              "      <td>0</td>\n",
              "      <td>0</td>\n",
              "      <td>0</td>\n",
              "      <td>0</td>\n",
              "      <td>0</td>\n",
              "      <td>0</td>\n",
              "      <td>0</td>\n",
              "      <td>0</td>\n",
              "      <td>0</td>\n",
              "      <td>0</td>\n",
              "      <td>0</td>\n",
              "      <td>0</td>\n",
              "      <td>0</td>\n",
              "      <td>0</td>\n",
              "      <td>...</td>\n",
              "      <td>0</td>\n",
              "      <td>0</td>\n",
              "      <td>0</td>\n",
              "      <td>0</td>\n",
              "      <td>0</td>\n",
              "      <td>0</td>\n",
              "      <td>0</td>\n",
              "      <td>0</td>\n",
              "      <td>0</td>\n",
              "      <td>0</td>\n",
              "      <td>0</td>\n",
              "      <td>0</td>\n",
              "      <td>0</td>\n",
              "      <td>0</td>\n",
              "      <td>0</td>\n",
              "      <td>0</td>\n",
              "      <td>0</td>\n",
              "      <td>0</td>\n",
              "      <td>0</td>\n",
              "      <td>0</td>\n",
              "      <td>0</td>\n",
              "      <td>0</td>\n",
              "      <td>0</td>\n",
              "      <td>0</td>\n",
              "      <td>0</td>\n",
              "      <td>0</td>\n",
              "      <td>0</td>\n",
              "      <td>0</td>\n",
              "      <td>0</td>\n",
              "      <td>0</td>\n",
              "      <td>0</td>\n",
              "      <td>0</td>\n",
              "      <td>0</td>\n",
              "      <td>0</td>\n",
              "      <td>0</td>\n",
              "      <td>0</td>\n",
              "      <td>0</td>\n",
              "      <td>0</td>\n",
              "      <td>0</td>\n",
              "      <td>0</td>\n",
              "    </tr>\n",
              "    <tr>\n",
              "      <th>4</th>\n",
              "      <td>5</td>\n",
              "      <td>2.000000</td>\n",
              "      <td>0.0</td>\n",
              "      <td>1.0</td>\n",
              "      <td>0</td>\n",
              "      <td>0</td>\n",
              "      <td>0</td>\n",
              "      <td>0</td>\n",
              "      <td>0</td>\n",
              "      <td>0</td>\n",
              "      <td>0</td>\n",
              "      <td>0</td>\n",
              "      <td>0</td>\n",
              "      <td>0</td>\n",
              "      <td>1</td>\n",
              "      <td>0</td>\n",
              "      <td>0</td>\n",
              "      <td>0</td>\n",
              "      <td>0</td>\n",
              "      <td>0</td>\n",
              "      <td>0</td>\n",
              "      <td>0</td>\n",
              "      <td>0</td>\n",
              "      <td>0</td>\n",
              "      <td>0</td>\n",
              "      <td>0</td>\n",
              "      <td>0</td>\n",
              "      <td>0</td>\n",
              "      <td>0</td>\n",
              "      <td>0</td>\n",
              "      <td>0</td>\n",
              "      <td>0</td>\n",
              "      <td>0</td>\n",
              "      <td>0</td>\n",
              "      <td>0</td>\n",
              "      <td>0</td>\n",
              "      <td>0</td>\n",
              "      <td>0</td>\n",
              "      <td>0</td>\n",
              "      <td>0</td>\n",
              "      <td>...</td>\n",
              "      <td>0</td>\n",
              "      <td>0</td>\n",
              "      <td>0</td>\n",
              "      <td>0</td>\n",
              "      <td>0</td>\n",
              "      <td>0</td>\n",
              "      <td>0</td>\n",
              "      <td>0</td>\n",
              "      <td>0</td>\n",
              "      <td>0</td>\n",
              "      <td>0</td>\n",
              "      <td>0</td>\n",
              "      <td>0</td>\n",
              "      <td>0</td>\n",
              "      <td>0</td>\n",
              "      <td>0</td>\n",
              "      <td>0</td>\n",
              "      <td>0</td>\n",
              "      <td>0</td>\n",
              "      <td>0</td>\n",
              "      <td>0</td>\n",
              "      <td>0</td>\n",
              "      <td>0</td>\n",
              "      <td>0</td>\n",
              "      <td>0</td>\n",
              "      <td>0</td>\n",
              "      <td>0</td>\n",
              "      <td>0</td>\n",
              "      <td>0</td>\n",
              "      <td>0</td>\n",
              "      <td>0</td>\n",
              "      <td>0</td>\n",
              "      <td>0</td>\n",
              "      <td>0</td>\n",
              "      <td>0</td>\n",
              "      <td>0</td>\n",
              "      <td>0</td>\n",
              "      <td>0</td>\n",
              "      <td>0</td>\n",
              "      <td>0</td>\n",
              "    </tr>\n",
              "    <tr>\n",
              "      <th>...</th>\n",
              "      <td>...</td>\n",
              "      <td>...</td>\n",
              "      <td>...</td>\n",
              "      <td>...</td>\n",
              "      <td>...</td>\n",
              "      <td>...</td>\n",
              "      <td>...</td>\n",
              "      <td>...</td>\n",
              "      <td>...</td>\n",
              "      <td>...</td>\n",
              "      <td>...</td>\n",
              "      <td>...</td>\n",
              "      <td>...</td>\n",
              "      <td>...</td>\n",
              "      <td>...</td>\n",
              "      <td>...</td>\n",
              "      <td>...</td>\n",
              "      <td>...</td>\n",
              "      <td>...</td>\n",
              "      <td>...</td>\n",
              "      <td>...</td>\n",
              "      <td>...</td>\n",
              "      <td>...</td>\n",
              "      <td>...</td>\n",
              "      <td>...</td>\n",
              "      <td>...</td>\n",
              "      <td>...</td>\n",
              "      <td>...</td>\n",
              "      <td>...</td>\n",
              "      <td>...</td>\n",
              "      <td>...</td>\n",
              "      <td>...</td>\n",
              "      <td>...</td>\n",
              "      <td>...</td>\n",
              "      <td>...</td>\n",
              "      <td>...</td>\n",
              "      <td>...</td>\n",
              "      <td>...</td>\n",
              "      <td>...</td>\n",
              "      <td>...</td>\n",
              "      <td>...</td>\n",
              "      <td>...</td>\n",
              "      <td>...</td>\n",
              "      <td>...</td>\n",
              "      <td>...</td>\n",
              "      <td>...</td>\n",
              "      <td>...</td>\n",
              "      <td>...</td>\n",
              "      <td>...</td>\n",
              "      <td>...</td>\n",
              "      <td>...</td>\n",
              "      <td>...</td>\n",
              "      <td>...</td>\n",
              "      <td>...</td>\n",
              "      <td>...</td>\n",
              "      <td>...</td>\n",
              "      <td>...</td>\n",
              "      <td>...</td>\n",
              "      <td>...</td>\n",
              "      <td>...</td>\n",
              "      <td>...</td>\n",
              "      <td>...</td>\n",
              "      <td>...</td>\n",
              "      <td>...</td>\n",
              "      <td>...</td>\n",
              "      <td>...</td>\n",
              "      <td>...</td>\n",
              "      <td>...</td>\n",
              "      <td>...</td>\n",
              "      <td>...</td>\n",
              "      <td>...</td>\n",
              "      <td>...</td>\n",
              "      <td>...</td>\n",
              "      <td>...</td>\n",
              "      <td>...</td>\n",
              "      <td>...</td>\n",
              "      <td>...</td>\n",
              "      <td>...</td>\n",
              "      <td>...</td>\n",
              "      <td>...</td>\n",
              "      <td>...</td>\n",
              "    </tr>\n",
              "    <tr>\n",
              "      <th>25779</th>\n",
              "      <td>10</td>\n",
              "      <td>6.000000</td>\n",
              "      <td>6.0</td>\n",
              "      <td>6.0</td>\n",
              "      <td>0</td>\n",
              "      <td>0</td>\n",
              "      <td>0</td>\n",
              "      <td>0</td>\n",
              "      <td>0</td>\n",
              "      <td>0</td>\n",
              "      <td>0</td>\n",
              "      <td>0</td>\n",
              "      <td>0</td>\n",
              "      <td>0</td>\n",
              "      <td>1</td>\n",
              "      <td>0</td>\n",
              "      <td>0</td>\n",
              "      <td>0</td>\n",
              "      <td>0</td>\n",
              "      <td>0</td>\n",
              "      <td>0</td>\n",
              "      <td>0</td>\n",
              "      <td>0</td>\n",
              "      <td>0</td>\n",
              "      <td>0</td>\n",
              "      <td>0</td>\n",
              "      <td>0</td>\n",
              "      <td>0</td>\n",
              "      <td>0</td>\n",
              "      <td>0</td>\n",
              "      <td>0</td>\n",
              "      <td>0</td>\n",
              "      <td>0</td>\n",
              "      <td>0</td>\n",
              "      <td>0</td>\n",
              "      <td>0</td>\n",
              "      <td>0</td>\n",
              "      <td>0</td>\n",
              "      <td>0</td>\n",
              "      <td>0</td>\n",
              "      <td>...</td>\n",
              "      <td>0</td>\n",
              "      <td>0</td>\n",
              "      <td>0</td>\n",
              "      <td>0</td>\n",
              "      <td>0</td>\n",
              "      <td>0</td>\n",
              "      <td>0</td>\n",
              "      <td>0</td>\n",
              "      <td>0</td>\n",
              "      <td>0</td>\n",
              "      <td>0</td>\n",
              "      <td>0</td>\n",
              "      <td>0</td>\n",
              "      <td>0</td>\n",
              "      <td>0</td>\n",
              "      <td>0</td>\n",
              "      <td>0</td>\n",
              "      <td>0</td>\n",
              "      <td>0</td>\n",
              "      <td>0</td>\n",
              "      <td>0</td>\n",
              "      <td>0</td>\n",
              "      <td>0</td>\n",
              "      <td>0</td>\n",
              "      <td>0</td>\n",
              "      <td>0</td>\n",
              "      <td>0</td>\n",
              "      <td>0</td>\n",
              "      <td>0</td>\n",
              "      <td>0</td>\n",
              "      <td>0</td>\n",
              "      <td>0</td>\n",
              "      <td>0</td>\n",
              "      <td>0</td>\n",
              "      <td>0</td>\n",
              "      <td>0</td>\n",
              "      <td>0</td>\n",
              "      <td>0</td>\n",
              "      <td>0</td>\n",
              "      <td>0</td>\n",
              "    </tr>\n",
              "    <tr>\n",
              "      <th>25780</th>\n",
              "      <td>4</td>\n",
              "      <td>1.709138</td>\n",
              "      <td>3.0</td>\n",
              "      <td>1.0</td>\n",
              "      <td>0</td>\n",
              "      <td>0</td>\n",
              "      <td>0</td>\n",
              "      <td>0</td>\n",
              "      <td>0</td>\n",
              "      <td>0</td>\n",
              "      <td>0</td>\n",
              "      <td>0</td>\n",
              "      <td>0</td>\n",
              "      <td>0</td>\n",
              "      <td>1</td>\n",
              "      <td>0</td>\n",
              "      <td>0</td>\n",
              "      <td>0</td>\n",
              "      <td>0</td>\n",
              "      <td>0</td>\n",
              "      <td>0</td>\n",
              "      <td>0</td>\n",
              "      <td>0</td>\n",
              "      <td>0</td>\n",
              "      <td>0</td>\n",
              "      <td>0</td>\n",
              "      <td>0</td>\n",
              "      <td>0</td>\n",
              "      <td>0</td>\n",
              "      <td>0</td>\n",
              "      <td>0</td>\n",
              "      <td>0</td>\n",
              "      <td>0</td>\n",
              "      <td>0</td>\n",
              "      <td>0</td>\n",
              "      <td>0</td>\n",
              "      <td>0</td>\n",
              "      <td>0</td>\n",
              "      <td>0</td>\n",
              "      <td>0</td>\n",
              "      <td>...</td>\n",
              "      <td>0</td>\n",
              "      <td>0</td>\n",
              "      <td>0</td>\n",
              "      <td>0</td>\n",
              "      <td>0</td>\n",
              "      <td>0</td>\n",
              "      <td>0</td>\n",
              "      <td>0</td>\n",
              "      <td>0</td>\n",
              "      <td>0</td>\n",
              "      <td>0</td>\n",
              "      <td>0</td>\n",
              "      <td>0</td>\n",
              "      <td>0</td>\n",
              "      <td>0</td>\n",
              "      <td>0</td>\n",
              "      <td>0</td>\n",
              "      <td>0</td>\n",
              "      <td>0</td>\n",
              "      <td>0</td>\n",
              "      <td>0</td>\n",
              "      <td>0</td>\n",
              "      <td>0</td>\n",
              "      <td>0</td>\n",
              "      <td>0</td>\n",
              "      <td>0</td>\n",
              "      <td>0</td>\n",
              "      <td>0</td>\n",
              "      <td>0</td>\n",
              "      <td>0</td>\n",
              "      <td>0</td>\n",
              "      <td>0</td>\n",
              "      <td>0</td>\n",
              "      <td>0</td>\n",
              "      <td>0</td>\n",
              "      <td>0</td>\n",
              "      <td>0</td>\n",
              "      <td>0</td>\n",
              "      <td>0</td>\n",
              "      <td>0</td>\n",
              "    </tr>\n",
              "    <tr>\n",
              "      <th>25781</th>\n",
              "      <td>3</td>\n",
              "      <td>2.000000</td>\n",
              "      <td>3.0</td>\n",
              "      <td>2.0</td>\n",
              "      <td>0</td>\n",
              "      <td>0</td>\n",
              "      <td>0</td>\n",
              "      <td>0</td>\n",
              "      <td>0</td>\n",
              "      <td>0</td>\n",
              "      <td>0</td>\n",
              "      <td>0</td>\n",
              "      <td>0</td>\n",
              "      <td>0</td>\n",
              "      <td>0</td>\n",
              "      <td>0</td>\n",
              "      <td>0</td>\n",
              "      <td>0</td>\n",
              "      <td>0</td>\n",
              "      <td>0</td>\n",
              "      <td>0</td>\n",
              "      <td>0</td>\n",
              "      <td>0</td>\n",
              "      <td>0</td>\n",
              "      <td>0</td>\n",
              "      <td>0</td>\n",
              "      <td>0</td>\n",
              "      <td>1</td>\n",
              "      <td>0</td>\n",
              "      <td>0</td>\n",
              "      <td>0</td>\n",
              "      <td>0</td>\n",
              "      <td>0</td>\n",
              "      <td>0</td>\n",
              "      <td>0</td>\n",
              "      <td>0</td>\n",
              "      <td>0</td>\n",
              "      <td>0</td>\n",
              "      <td>0</td>\n",
              "      <td>0</td>\n",
              "      <td>...</td>\n",
              "      <td>0</td>\n",
              "      <td>0</td>\n",
              "      <td>0</td>\n",
              "      <td>0</td>\n",
              "      <td>0</td>\n",
              "      <td>0</td>\n",
              "      <td>0</td>\n",
              "      <td>0</td>\n",
              "      <td>0</td>\n",
              "      <td>0</td>\n",
              "      <td>0</td>\n",
              "      <td>0</td>\n",
              "      <td>0</td>\n",
              "      <td>0</td>\n",
              "      <td>0</td>\n",
              "      <td>0</td>\n",
              "      <td>0</td>\n",
              "      <td>0</td>\n",
              "      <td>0</td>\n",
              "      <td>0</td>\n",
              "      <td>0</td>\n",
              "      <td>0</td>\n",
              "      <td>0</td>\n",
              "      <td>0</td>\n",
              "      <td>0</td>\n",
              "      <td>0</td>\n",
              "      <td>0</td>\n",
              "      <td>0</td>\n",
              "      <td>0</td>\n",
              "      <td>0</td>\n",
              "      <td>0</td>\n",
              "      <td>0</td>\n",
              "      <td>0</td>\n",
              "      <td>0</td>\n",
              "      <td>0</td>\n",
              "      <td>0</td>\n",
              "      <td>0</td>\n",
              "      <td>0</td>\n",
              "      <td>0</td>\n",
              "      <td>0</td>\n",
              "    </tr>\n",
              "    <tr>\n",
              "      <th>25782</th>\n",
              "      <td>3</td>\n",
              "      <td>1.000000</td>\n",
              "      <td>2.0</td>\n",
              "      <td>1.0</td>\n",
              "      <td>0</td>\n",
              "      <td>0</td>\n",
              "      <td>0</td>\n",
              "      <td>0</td>\n",
              "      <td>0</td>\n",
              "      <td>0</td>\n",
              "      <td>0</td>\n",
              "      <td>0</td>\n",
              "      <td>0</td>\n",
              "      <td>0</td>\n",
              "      <td>0</td>\n",
              "      <td>0</td>\n",
              "      <td>0</td>\n",
              "      <td>0</td>\n",
              "      <td>0</td>\n",
              "      <td>0</td>\n",
              "      <td>0</td>\n",
              "      <td>0</td>\n",
              "      <td>0</td>\n",
              "      <td>0</td>\n",
              "      <td>0</td>\n",
              "      <td>0</td>\n",
              "      <td>0</td>\n",
              "      <td>0</td>\n",
              "      <td>0</td>\n",
              "      <td>0</td>\n",
              "      <td>0</td>\n",
              "      <td>0</td>\n",
              "      <td>0</td>\n",
              "      <td>0</td>\n",
              "      <td>0</td>\n",
              "      <td>1</td>\n",
              "      <td>0</td>\n",
              "      <td>0</td>\n",
              "      <td>0</td>\n",
              "      <td>0</td>\n",
              "      <td>...</td>\n",
              "      <td>0</td>\n",
              "      <td>0</td>\n",
              "      <td>0</td>\n",
              "      <td>0</td>\n",
              "      <td>0</td>\n",
              "      <td>0</td>\n",
              "      <td>0</td>\n",
              "      <td>0</td>\n",
              "      <td>0</td>\n",
              "      <td>0</td>\n",
              "      <td>0</td>\n",
              "      <td>0</td>\n",
              "      <td>0</td>\n",
              "      <td>0</td>\n",
              "      <td>0</td>\n",
              "      <td>0</td>\n",
              "      <td>0</td>\n",
              "      <td>0</td>\n",
              "      <td>0</td>\n",
              "      <td>0</td>\n",
              "      <td>0</td>\n",
              "      <td>0</td>\n",
              "      <td>0</td>\n",
              "      <td>0</td>\n",
              "      <td>0</td>\n",
              "      <td>0</td>\n",
              "      <td>0</td>\n",
              "      <td>0</td>\n",
              "      <td>0</td>\n",
              "      <td>0</td>\n",
              "      <td>0</td>\n",
              "      <td>0</td>\n",
              "      <td>0</td>\n",
              "      <td>0</td>\n",
              "      <td>0</td>\n",
              "      <td>0</td>\n",
              "      <td>0</td>\n",
              "      <td>0</td>\n",
              "      <td>0</td>\n",
              "      <td>0</td>\n",
              "    </tr>\n",
              "    <tr>\n",
              "      <th>25783</th>\n",
              "      <td>4</td>\n",
              "      <td>1.000000</td>\n",
              "      <td>3.0</td>\n",
              "      <td>1.0</td>\n",
              "      <td>0</td>\n",
              "      <td>0</td>\n",
              "      <td>0</td>\n",
              "      <td>0</td>\n",
              "      <td>0</td>\n",
              "      <td>0</td>\n",
              "      <td>0</td>\n",
              "      <td>0</td>\n",
              "      <td>0</td>\n",
              "      <td>0</td>\n",
              "      <td>0</td>\n",
              "      <td>0</td>\n",
              "      <td>0</td>\n",
              "      <td>0</td>\n",
              "      <td>0</td>\n",
              "      <td>0</td>\n",
              "      <td>0</td>\n",
              "      <td>0</td>\n",
              "      <td>0</td>\n",
              "      <td>0</td>\n",
              "      <td>0</td>\n",
              "      <td>0</td>\n",
              "      <td>0</td>\n",
              "      <td>0</td>\n",
              "      <td>0</td>\n",
              "      <td>0</td>\n",
              "      <td>0</td>\n",
              "      <td>0</td>\n",
              "      <td>0</td>\n",
              "      <td>0</td>\n",
              "      <td>0</td>\n",
              "      <td>1</td>\n",
              "      <td>0</td>\n",
              "      <td>0</td>\n",
              "      <td>0</td>\n",
              "      <td>0</td>\n",
              "      <td>...</td>\n",
              "      <td>0</td>\n",
              "      <td>0</td>\n",
              "      <td>0</td>\n",
              "      <td>0</td>\n",
              "      <td>0</td>\n",
              "      <td>0</td>\n",
              "      <td>0</td>\n",
              "      <td>0</td>\n",
              "      <td>0</td>\n",
              "      <td>0</td>\n",
              "      <td>0</td>\n",
              "      <td>0</td>\n",
              "      <td>0</td>\n",
              "      <td>0</td>\n",
              "      <td>0</td>\n",
              "      <td>0</td>\n",
              "      <td>0</td>\n",
              "      <td>0</td>\n",
              "      <td>0</td>\n",
              "      <td>0</td>\n",
              "      <td>0</td>\n",
              "      <td>0</td>\n",
              "      <td>0</td>\n",
              "      <td>0</td>\n",
              "      <td>0</td>\n",
              "      <td>0</td>\n",
              "      <td>0</td>\n",
              "      <td>0</td>\n",
              "      <td>0</td>\n",
              "      <td>0</td>\n",
              "      <td>0</td>\n",
              "      <td>0</td>\n",
              "      <td>0</td>\n",
              "      <td>0</td>\n",
              "      <td>0</td>\n",
              "      <td>0</td>\n",
              "      <td>0</td>\n",
              "      <td>0</td>\n",
              "      <td>0</td>\n",
              "      <td>0</td>\n",
              "    </tr>\n",
              "  </tbody>\n",
              "</table>\n",
              "<p>24836 rows × 141 columns</p>\n",
              "</div>"
            ],
            "text/plain": [
              "       accommodates  bedrooms  ...  property_type_Treehouse  property_type_Yurt\n",
              "0                 5  2.000000  ...                        0                   0\n",
              "1                 2  1.000000  ...                        0                   0\n",
              "2                 2  1.000000  ...                        0                   0\n",
              "3                 2  1.000000  ...                        0                   0\n",
              "4                 5  2.000000  ...                        0                   0\n",
              "...             ...       ...  ...                      ...                 ...\n",
              "25779            10  6.000000  ...                        0                   0\n",
              "25780             4  1.709138  ...                        0                   0\n",
              "25781             3  2.000000  ...                        0                   0\n",
              "25782             3  1.000000  ...                        0                   0\n",
              "25783             4  1.000000  ...                        0                   0\n",
              "\n",
              "[24836 rows x 141 columns]"
            ]
          },
          "metadata": {
            "tags": []
          },
          "execution_count": 33
        }
      ]
    },
    {
      "cell_type": "code",
      "metadata": {
        "id": "M4lXJtmSq7x6"
      },
      "source": [
        "#Split into train and test\r\n",
        "X_train, X_test, y_train, y_test = train_test_split(X, y, test_size = .3) "
      ],
      "execution_count": 34,
      "outputs": []
    },
    {
      "cell_type": "code",
      "metadata": {
        "colab": {
          "base_uri": "https://localhost:8080/"
        },
        "id": "v0ubi1dGq-Cl",
        "outputId": "e2334846-1e78-4b6b-b4bf-449cface9964"
      },
      "source": [
        "from sklearn.linear_model import LinearRegression\r\n",
        "lm_model = LinearRegression(normalize=True) # Instantiate\r\n",
        "lm_model.fit(X_train, y_train) #Fit"
      ],
      "execution_count": 35,
      "outputs": [
        {
          "output_type": "execute_result",
          "data": {
            "text/plain": [
              "LinearRegression(copy_X=True, fit_intercept=True, n_jobs=None, normalize=True)"
            ]
          },
          "metadata": {
            "tags": []
          },
          "execution_count": 35
        }
      ]
    },
    {
      "cell_type": "code",
      "metadata": {
        "id": "ZfT0whGOq_Jw"
      },
      "source": [
        "#Predict using your model\r\n",
        "y_test_preds = lm_model.predict(X_test)\r\n",
        "y_train_preds = lm_model.predict(X_train)\r\n",
        "\r\n",
        "#Score using your model\r\n",
        "test_score = r2_score(y_test, y_test_preds)\r\n",
        "train_score = r2_score(y_train, y_train_preds)"
      ],
      "execution_count": 36,
      "outputs": []
    },
    {
      "cell_type": "code",
      "metadata": {
        "colab": {
          "base_uri": "https://localhost:8080/"
        },
        "id": "2DFTvgVKrDeF",
        "outputId": "eafd59bf-7b55-4b74-a020-fc7c090b7c93"
      },
      "source": [
        "#Print training and testing score\r\n",
        "print(\"The rsquared on the training data was {}.  The rsquared on the test data was {}.\".format(train_score, test_score))"
      ],
      "execution_count": 37,
      "outputs": [
        {
          "output_type": "stream",
          "text": [
            "The rsquared on the training data was 0.33373419936493376.  The rsquared on the test data was -5.041786520476436e+24.\n"
          ],
          "name": "stdout"
        }
      ]
    },
    {
      "cell_type": "markdown",
      "metadata": {
        "id": "M4dp8WO0twuq"
      },
      "source": [
        "Even adding some categorical features, the model performance it is not quite yet good. Maybe using some different algorithms can improve it."
      ]
    },
    {
      "cell_type": "code",
      "metadata": {
        "colab": {
          "base_uri": "https://localhost:8080/"
        },
        "id": "4xecZAkDKzqJ",
        "outputId": "2c1d8a4e-cc9a-4b54-ed3c-bc06f4951d41"
      },
      "source": [
        "#Support Vector Machines\r\n",
        "from sklearn import svm\r\n",
        "regr = svm.SVR()\r\n",
        "regr.fit(X_train, y_train)\r\n",
        "#\"y_pred = svc.predict(X_test)\\n\","
      ],
      "execution_count": 38,
      "outputs": [
        {
          "output_type": "execute_result",
          "data": {
            "text/plain": [
              "SVR(C=1.0, cache_size=200, coef0=0.0, degree=3, epsilon=0.1, gamma='scale',\n",
              "    kernel='rbf', max_iter=-1, shrinking=True, tol=0.001, verbose=False)"
            ]
          },
          "metadata": {
            "tags": []
          },
          "execution_count": 38
        }
      ]
    },
    {
      "cell_type": "code",
      "metadata": {
        "id": "DLCZUtMyMyef"
      },
      "source": [
        "#Predict using your model\r\n",
        "y_test_preds = regr.predict(X_test)\r\n",
        "y_train_preds = regr.predict(X_train)\r\n",
        "\r\n",
        "#Score using your model\r\n",
        "test_score = r2_score(y_test, y_test_preds)\r\n",
        "train_score = r2_score(y_train, y_train_preds)"
      ],
      "execution_count": 39,
      "outputs": []
    },
    {
      "cell_type": "code",
      "metadata": {
        "colab": {
          "base_uri": "https://localhost:8080/"
        },
        "id": "0uV5uNg1NRJO",
        "outputId": "c46ef8be-5806-463d-f724-4da59888f81c"
      },
      "source": [
        "print(\"The rsquared on the training data was {}.  The rsquared on the test data was {}.\".format(train_score, test_score))"
      ],
      "execution_count": 40,
      "outputs": [
        {
          "output_type": "stream",
          "text": [
            "The rsquared on the training data was 0.08419974246341921.  The rsquared on the test data was 0.08172236370060992.\n"
          ],
          "name": "stdout"
        }
      ]
    },
    {
      "cell_type": "markdown",
      "metadata": {
        "id": "nw-om2XZmb_g"
      },
      "source": [
        "The SVM algorithm got even worse results. Let's try the Random Forest regressor."
      ]
    },
    {
      "cell_type": "code",
      "metadata": {
        "id": "Txln1TaYN9c-"
      },
      "source": [
        "from sklearn.ensemble import RandomForestRegressor\r\n",
        "regr = RandomForestRegressor( random_state = 42)\r\n",
        "model=regr.fit(X_train, y_train)"
      ],
      "execution_count": 41,
      "outputs": []
    },
    {
      "cell_type": "code",
      "metadata": {
        "id": "duIglpZWPwli"
      },
      "source": [
        "#Predict using your model\r\n",
        "y_test_preds = regr.predict(X_test)\r\n",
        "y_train_preds = regr.predict(X_train)\r\n",
        "\r\n",
        "#Score using your model\r\n",
        "test_score = r2_score(y_test, y_test_preds)\r\n",
        "train_score = r2_score(y_train, y_train_preds)"
      ],
      "execution_count": 42,
      "outputs": []
    },
    {
      "cell_type": "code",
      "metadata": {
        "colab": {
          "base_uri": "https://localhost:8080/"
        },
        "id": "14Xbb-DMP3oj",
        "outputId": "f920d824-ff77-4fa2-fc91-49326f7528df"
      },
      "source": [
        "print(\"The rsquared on the training data was {}.  The rsquared on the test data was {}.\".format(train_score, test_score))"
      ],
      "execution_count": 43,
      "outputs": [
        {
          "output_type": "stream",
          "text": [
            "The rsquared on the training data was 0.7378984528990757.  The rsquared on the test data was 0.2859135430012675.\n"
          ],
          "name": "stdout"
        }
      ]
    },
    {
      "cell_type": "code",
      "metadata": {
        "colab": {
          "base_uri": "https://localhost:8080/",
          "height": 296
        },
        "id": "lWNxc-wrtmZO",
        "outputId": "896cc114-5e87-41d0-e736-323617fd28c0"
      },
      "source": [
        "sns.scatterplot(x=y_train, y=y_train_preds)"
      ],
      "execution_count": 44,
      "outputs": [
        {
          "output_type": "execute_result",
          "data": {
            "text/plain": [
              "<matplotlib.axes._subplots.AxesSubplot at 0x7fdece6df828>"
            ]
          },
          "metadata": {
            "tags": []
          },
          "execution_count": 44
        },
        {
          "output_type": "display_data",
          "data": {
            "image/png": "[encoded data removed]",
            "text/plain": [
              "<Figure size 432x288 with 1 Axes>"
            ]
          },
          "metadata": {
            "tags": [],
            "needs_background": "light"
          }
        }
      ]
    },
    {
      "cell_type": "markdown",
      "metadata": {
        "id": "KN_k193Gmorf"
      },
      "source": [
        "The rsquared value for the training data was good, meaning that the predict values for price in training were close to the real ones for most of the records. For the test data it is necessary some treatment to improve the results."
      ]
    }
  ]
}